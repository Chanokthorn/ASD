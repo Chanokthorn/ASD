{
 "cells": [
  {
   "cell_type": "code",
   "execution_count": 34,
   "metadata": {
    "colab": {
     "autoexec": {
      "startup": false,
      "wait_interval": 0
     }
    },
    "colab_type": "code",
    "id": "Kv2It0UYTBq7"
   },
   "outputs": [],
   "source": [
    "import cv2\n",
    "import matplotlib.pyplot as plt\n",
    "import os\n",
    "import numpy as np\n",
    "\n",
    "TIME_FRAMES = 50\n",
    "BUFFER_SIZE = 50\n",
    "AMOUNT_OF_FRAMES = TIME_FRAMES - BUFFER_SIZE + 1\n",
    "\n",
    "frame_sq = []\n",
    "frame_sq_gray = []\n",
    "frame_sq_edges = []\n",
    "\n",
    "dataset_no = input(\"starting number: \")\n",
    "entry_count = 0\n",
    "                    \n",
    "h = np.ndarray((AMOUNT_OF_FRAMES, 4))\n",
    "# h_histo = np.ndarray((AMOUNT_OF_FRAMES,256))\n",
    "s = np.ndarray((AMOUNT_OF_FRAMES, 4))\n",
    "# s_histo = np.ndarray((AMOUNT_OF_FRAMES,256))\n",
    "v= np.ndarray((AMOUNT_OF_FRAMES, 4))\n",
    "# v_histo = np.ndarray((AMOUNT_OF_FRAMES,256))\n",
    "frame_edges_comp = np.ndarray((AMOUNT_OF_FRAMES,1))\n",
    "frame_comp = np.ndarray((AMOUNT_OF_FRAMES,1))\n",
    "\n",
    "# rgb = np.ndarray((TIME_FRAMES - (TIME_FRAMES % BUFFER_SIZE), 3))\n",
    "\n"
   ]
  },
  {
   "cell_type": "code",
   "execution_count": 25,
   "metadata": {
    "colab": {
     "autoexec": {
      "startup": false,
      "wait_interval": 0
     }
    },
    "colab_type": "code",
    "id": "UMWqnsH9TBrC"
   },
   "outputs": [],
   "source": [
    "def calculate_n_of_hsv(frame_sq,n):\n",
    "    sum_n = 0\n",
    "    max_n = 0\n",
    "    min_n = 255\n",
    "    var_n = 0\n",
    "#     histo = np.zeros((AMOUNT_OF_FRAMES,256))\n",
    "    for frame in frame_sq:\n",
    "        var_n += np.var(frame[:,:,n])\n",
    "        sum_n += np.sum(frame[:,:,n])\n",
    "        max_n = max(max_n, np.max(frame[:,:,n]))\n",
    "        min_n = min(min_n, np.min(frame[:,:,n]))\n",
    "\n",
    "#     for frame in frame_sq:\n",
    "#         for pxl in frame:\n",
    "#             x = frame[n]\n",
    "#             histo[x] += 1\n",
    "#             sum_n += x\n",
    "#             max_n = max(max_n, x)\n",
    "#             min_n = min(min_n, x)\n",
    "#     return (np.array([avg_n, max_n, min_n]), histo)\n",
    "    avg_n = sum_n/ len(frame_sq) * frame_sq[0].shape[0] * frame_sq[0].shape[1]\n",
    "    return np.array([avg_n, max_n, min_n, var_n])\n",
    "def calculate_comp(frame_sq):\n",
    "    sum_comp = 0\n",
    "    for i in range(len(frame_sq)):\n",
    "        if(i != 0):\n",
    "            sum_comp += compare_img(frame_sq[i], frame_sq[i-1])\n",
    "#         if(i == 1): print(compare_img(frame_sq[i], frame_sq[i-1]))\n",
    "    sum_comp /= (len(frame_sq) - 1)\n",
    "    return sum_comp"
   ]
  },
  {
   "cell_type": "code",
   "execution_count": 26,
   "metadata": {},
   "outputs": [],
   "source": [
    "def compare_img(img1,img2):\n",
    "    img1 = normalize_gray(img1)\n",
    "    img2 = normalize_gray(img2)\n",
    "    diff = img1 - img2\n",
    "    m_norm = np.sum(abs(diff))\n",
    "    return m_norm\n",
    "\n",
    "def normalize_gray(frame):\n",
    "    rng = np.max(frame) - np.min(frame)\n",
    "    amin = np.min(frame)\n",
    "    return (frame-amin)/rng #range from [0,1]"
   ]
  },
  {
   "cell_type": "code",
   "execution_count": 27,
   "metadata": {},
   "outputs": [],
   "source": [
    "def createDataset(data):\n",
    "    dataset = data[0].copy()\n",
    "    data.remove(data[0])\n",
    "    for datum in data:\n",
    "        dataset = np.append(dataset, datum, axis = 1)\n",
    "    return dataset\n",
    "def createTSV(dataset):\n",
    "    dataset = (dataset.copy()).astype(str)\n",
    "    datasetName = \"dataset\" + str(dataset_no) + \".tsv\"\n",
    "    file = open(datasetName, \"w\")\n",
    "#     file.write(\"h\\ts\\tv\\tframe_edges_comp\\tframe_comp\\n\")\n",
    "    for i in range(dataset.shape[0]):\n",
    "        file.write(\"\\t\".join(dataset[i,:].tolist()))\n",
    "        file.write(\"\\n\")\n",
    "#         if(i + 1 != dataset.shape[0]):\n",
    "#             file.write(\"\\n\")\n",
    "    file.close()\n",
    "    return\n",
    "def createTSVLabel(dataset):\n",
    "    dataset = (dataset.copy()).astype(str)\n",
    "    datasetName = \"label\" + str(dataset_no) + \".tsv\"\n",
    "    file = open(datasetName, \"w\")\n",
    "    file.write(\"havg\\thmax\\thmin\\thv\\tsavg\\tsmax\\tsmin\\tsv\\tvavg\\tvmax\\tvmin\\tvv\\tframe_edges_comp\\tframe_comp\\n\")\n",
    "    for i in range(dataset.shape[0]):\n",
    "        file.write(\"\\t\".join(dataset[i,:].tolist()))\n",
    "        file.write(\"\\n\")\n",
    "#         if(i + 1 != dataset.shape[0]):\n",
    "#             file.write(\"\\n\")\n",
    "    file.close()\n",
    "    return"
   ]
  },
  {
   "cell_type": "code",
   "execution_count": 28,
   "metadata": {},
   "outputs": [],
   "source": [
    "def createCSV(dataset):\n",
    "    dataset = (dataset.copy()).astype(str)\n",
    "    dataset_name = \"dataset\" + str(dataset_no) + \".csv\"\n",
    "    csv = open(dataset_name, \"w\")\n",
    "    columnTitleRow = \"havg,hmax,hmin,hv,savg,smax,smin,sv,vavg,vmax,vmin,vv,frame_edges_comp,frame_comp\\n\"\n",
    "    csv.write(columnTitleRow)\n",
    "    for i in range(dataset.shape[0]):\n",
    "        csv.write(\",\".join(dataset[i,:].tolist()))\n",
    "        csv.write(\"\\n\")\n",
    "    csv.close()"
   ]
  },
  {
   "cell_type": "code",
   "execution_count": 33,
   "metadata": {
    "colab": {
     "autoexec": {
      "startup": false,
      "wait_interval": 0
     },
     "base_uri": "https://localhost:8080/",
     "height": 249
    },
    "colab_type": "code",
    "executionInfo": {
     "elapsed": 564,
     "status": "error",
     "timestamp": 1528778942198,
     "user": {
      "displayName": "Chanokthorn Uerpairojkit",
      "photoUrl": "//lh3.googleusercontent.com/-lxOXQMW2xGM/AAAAAAAAAAI/AAAAAAAAAFM/6xYN4f5kB5I/s50-c-k-no/photo.jpg",
      "userId": "114952678521276212047"
     },
     "user_tz": -540
    },
    "id": "8oO3R5NyTBrI",
    "outputId": "63f9749a-562c-4191-a10e-99a47a62e6b4"
   },
   "outputs": [
    {
     "name": "stderr",
     "output_type": "stream",
     "text": [
      "/home/bon/anaconda3/lib/python3.6/site-packages/ipykernel_launcher.py:11: RuntimeWarning: invalid value encountered in true_divide\n",
      "  # This is added back by InteractiveShellApp.init_path()\n"
     ]
    }
   ],
   "source": [
    "cap = cv2.VideoCapture(0)\n",
    "\n",
    "frame_counter = 0\n",
    "buffer_counter = 0\n",
    "# filename = 'eye0.avi'\n",
    "# out = cv2.VideoWriter(filename, get_video_type(filename), 25, get_dims(cap, res))\n",
    "\n",
    "while(True):\n",
    "    ret, frame = cap.read()\n",
    "    hsv = cv2.cvtColor(frame,cv2.COLOR_BGR2HSV)\n",
    "    frame_sq.append(hsv)\n",
    "    gray = cv2.cvtColor(frame, cv2.COLOR_BGR2GRAY)\n",
    "    frame_sq_gray.append(gray)\n",
    "    edges = cv2.Canny(gray,100,200)\n",
    "    frame_sq_edges.append(edges)\n",
    "    \n",
    "    if(len(frame_sq) <=  BUFFER_SIZE):\n",
    "        continue\n",
    "    if(len(frame_sq) > BUFFER_SIZE): \n",
    "        frame_sq.remove(frame_sq[0])\n",
    "        frame_sq_edges.remove(frame_sq_edges[0])\n",
    "        frame_sq_gray.remove(frame_sq_gray[0])\n",
    "        h[buffer_counter,:] = calculate_n_of_hsv(frame_sq,0)\n",
    "        s[buffer_counter,:] = calculate_n_of_hsv(frame_sq,1)\n",
    "        v[buffer_counter,:] = calculate_n_of_hsv(frame_sq,2)\n",
    "        frame_edges_comp[buffer_counter,0] = calculate_comp(frame_sq_edges)\n",
    "        frame_comp[buffer_counter,0] = calculate_comp(frame_sq_gray)\n",
    "#     (h[buffer_counter,:], h_histo) = calculate_n_of_hsv(frame_sq, 0)\n",
    "#     (s[buffer_counter,:], s_histo) = calculate_n_of_hsv(frame_sq, 1)\n",
    "#     (v[buffer_counter,:], v_histo) = calculate_n_of_hsv(frame_sq, 2)\n",
    "            \n",
    "    cv2.imshow(\"frame\",frame)\n",
    "#     print(\"BUFFER: \", buffer_counter,end=\"\\r\")\n",
    "    buffer_counter += 1\n",
    "    if(buffer_counter >= AMOUNT_OF_FRAMES): break\n",
    "\n",
    "frame_sq = []\n",
    "frame_sq_edges = []\n",
    "frame_sq_gray = []\n",
    "dataset = createDataset([h, s, v, frame_edges_comp, frame_comp])\n",
    "createTSV(dataset)\n",
    "cap.release()\n",
    "cv2.destroyAllWindows()"
   ]
  },
  {
   "cell_type": "code",
   "execution_count": 30,
   "metadata": {},
   "outputs": [],
   "source": [
    "createTSV(dataset)\n"
   ]
  },
  {
   "cell_type": "code",
   "execution_count": 31,
   "metadata": {},
   "outputs": [],
   "source": [
    "createTSVLabel(dataset)"
   ]
  },
  {
   "cell_type": "code",
   "execution_count": 7,
   "metadata": {},
   "outputs": [],
   "source": [
    "createCSV(dataset)"
   ]
  },
  {
   "cell_type": "code",
   "execution_count": 11,
   "metadata": {},
   "outputs": [
    {
     "name": "stdout",
     "output_type": "stream",
     "text": [
      "(176, 14)\n"
     ]
    }
   ],
   "source": [
    "print(dataset.shape)"
   ]
  },
  {
   "cell_type": "code",
   "execution_count": 44,
   "metadata": {},
   "outputs": [
    {
     "name": "stdout",
     "output_type": "stream",
     "text": [
      "[[ 8395.  ]\n",
      " [ 8128.  ]\n",
      " [ 7781.5 ]\n",
      " [ 7634.75]\n",
      " [ 7221.5 ]\n",
      " [ 7954.75]\n",
      " [ 8836.75]\n",
      " [ 9791.5 ]\n",
      " [10636.  ]\n",
      " [ 9592.25]\n",
      " [ 8518.  ]\n",
      " [ 8076.5 ]\n",
      " [ 8317.5 ]\n",
      " [ 9217.75]\n",
      " [10057.25]\n",
      " [ 9550.  ]\n",
      " [ 9421.25]\n",
      " [ 9902.5 ]\n",
      " [10550.75]\n",
      " [11820.5 ]\n",
      " [12481.5 ]\n",
      " [12785.25]\n",
      " [12548.  ]\n",
      " [12327.25]\n",
      " [10875.5 ]\n",
      " [ 9142.  ]\n",
      " [ 7708.75]\n",
      " [ 6677.5 ]\n",
      " [ 7385.5 ]\n",
      " [ 8772.25]\n",
      " [10304.25]\n",
      " [11033.5 ]\n",
      " [11298.75]\n",
      " [10809.  ]\n",
      " [10584.  ]\n",
      " [10682.25]\n",
      " [10477.5 ]\n",
      " [10726.  ]\n",
      " [10503.5 ]\n",
      " [10307.  ]\n",
      " [10228.5 ]\n",
      " [10066.5 ]\n",
      " [ 9725.75]\n",
      " [ 9856.  ]\n",
      " [10143.5 ]\n",
      " [10385.25]\n",
      " [10729.25]\n",
      " [10571.25]\n",
      " [10166.  ]\n",
      " [ 9845.5 ]\n",
      " [ 9603.25]\n",
      " [ 9409.25]\n",
      " [ 9274.5 ]\n",
      " [ 9044.5 ]\n",
      " [ 8791.25]\n",
      " [ 8439.25]\n",
      " [ 7808.75]\n",
      " [ 7151.75]\n",
      " [ 6590.5 ]\n",
      " [ 6176.75]\n",
      " [ 6013.25]\n",
      " [ 5847.75]\n",
      " [ 5538.  ]\n",
      " [ 5458.5 ]\n",
      " [ 5825.25]\n",
      " [ 6268.  ]\n",
      " [ 6963.5 ]\n",
      " [ 6945.  ]\n",
      " [ 6077.75]\n",
      " [ 5435.75]\n",
      " [ 4617.  ]\n",
      " [ 3784.75]\n",
      " [ 3127.75]\n",
      " [ 2218.  ]\n",
      " [ 1393.5 ]\n",
      " [ 1031.  ]\n",
      " [  950.25]\n",
      " [ 1342.  ]\n",
      " [ 2681.25]\n",
      " [ 4882.75]\n",
      " [ 6512.  ]\n",
      " [ 6833.5 ]\n",
      " [ 5766.25]\n",
      " [ 3538.25]\n",
      " [ 2057.  ]\n",
      " [ 2042.25]\n",
      " [ 2431.25]\n",
      " [     nan]\n",
      " [     nan]\n",
      " [     nan]\n",
      " [     nan]\n",
      " [     nan]\n",
      " [ 3637.75]\n",
      " [ 4430.75]\n",
      " [ 4650.25]\n",
      " [ 4624.75]\n",
      " [ 4526.  ]\n",
      " [ 3788.25]\n",
      " [ 3412.25]\n",
      " [ 3035.75]\n",
      " [ 2725.25]\n",
      " [ 3396.5 ]\n",
      " [ 4138.  ]\n",
      " [ 5079.5 ]\n",
      " [ 5885.  ]\n",
      " [ 6085.  ]\n",
      " [ 5810.25]\n",
      " [ 4572.5 ]\n",
      " [ 3836.  ]\n",
      " [ 3459.75]\n",
      " [ 3585.75]\n",
      " [ 4864.75]\n",
      " [ 5508.  ]\n",
      " [ 5161.  ]\n",
      " [ 4356.25]\n",
      " [ 4014.25]\n",
      " [ 4304.5 ]\n",
      " [ 5463.75]\n",
      " [ 6537.5 ]\n",
      " [ 6015.  ]\n",
      " [ 5160.  ]\n",
      " [ 4251.25]\n",
      " [ 3587.  ]\n",
      " [ 3705.25]\n",
      " [ 4081.75]\n",
      " [ 4793.  ]\n",
      " [ 5219.5 ]\n",
      " [ 5373.75]\n",
      " [ 5344.25]\n",
      " [ 4705.  ]\n",
      " [ 4894.5 ]\n",
      " [ 5489.75]\n",
      " [ 6226.  ]\n",
      " [ 7300.5 ]\n",
      " [ 7201.75]\n",
      " [ 6671.75]\n",
      " [ 5934.5 ]\n",
      " [ 5327.25]\n",
      " [ 5215.25]\n",
      " [ 5107.75]\n",
      " [ 5262.  ]\n",
      " [ 6130.  ]\n",
      " [ 7377.25]\n",
      " [ 8410.75]\n",
      " [ 8942.  ]\n",
      " [ 7650.75]]\n"
     ]
    }
   ],
   "source": [
    "print(frame_comp)"
   ]
  },
  {
   "cell_type": "code",
   "execution_count": null,
   "metadata": {
    "colab": {
     "autoexec": {
      "startup": false,
      "wait_interval": 0
     }
    },
    "colab_type": "code",
    "id": "7OGJyw-8TBrS"
   },
   "outputs": [],
   "source": [
    "\n",
    "# Set resolution for the video capture\n",
    "# Function adapted from https://kirr.co/0l6qmh\n",
    "def change_res(cap, width, height):\n",
    "    cap.set(3, width)\n",
    "    cap.set(4, height)\n",
    "\n",
    "# Standard Video Dimensions Sizes\n",
    "STD_DIMENSIONS =  {\n",
    "    \"480p\": (640, 480),\n",
    "    \"720p\": (1280, 720),\n",
    "    \"1080p\": (1920, 1080),\n",
    "    \"4k\": (3840, 2160),\n",
    "}\n",
    "\n",
    "\n",
    "# grab resolution dimensions and set video capture to it.\n",
    "def get_dims(cap, res='1080p'):\n",
    "    width, height = STD_DIMENSIONS[\"480p\"]\n",
    "    if res in STD_DIMENSIONS:\n",
    "        width,height = STD_DIMENSIONS[res]\n",
    "    ## change the current caputre device\n",
    "    ## to the resulting resolution\n",
    "    change_res(cap, width, height)\n",
    "    return width, height\n",
    "\n",
    "# Video Encoding, might require additional installs\n",
    "# Types of Codes: http://www.fourcc.org/codecs.php\n",
    "VIDEO_TYPE = {\n",
    "    'avi': cv2.VideoWriter_fourcc(*'XVID'),\n",
    "    #'mp4': cv2.VideoWriter_fourcc(*'H264'),\n",
    "    'mp4': cv2.VideoWriter_fourcc(*'XVID'),\n",
    "}\n",
    "\n",
    "def get_video_type(filename):\n",
    "    filename, ext = os.path.splitext(filename)\n",
    "    if ext in VIDEO_TYPE:\n",
    "      return  VIDEO_TYPE[ext]\n",
    "    return VIDEO_TYPE['avi']\n"
   ]
  },
  {
   "cell_type": "code",
   "execution_count": null,
   "metadata": {
    "colab": {
     "autoexec": {
      "startup": false,
      "wait_interval": 0
     }
    },
    "colab_type": "code",
    "id": "d-BMcl_YTBrV"
   },
   "outputs": [],
   "source": [
    "    import cv2\n",
    "    import numpy as np\n",
    "    cap = cv2.VideoCapture(0)\n",
    "     \n",
    "    ret, frame1 = cap.read()\n",
    "    prvs = cv2.cvtColor(frame1,cv2.COLOR_BGR2GRAY)\n",
    "    hsv = np.zeros_like(frame1)\n",
    "    hsv[...,1] = 255\n",
    "     \n",
    "    while(1):\n",
    "        ret, frame2 = cap.read()\n",
    "        next = cv2.cvtColor(frame2,cv2.COLOR_BGR2GRAY)\n",
    "   \n",
    "        flow = cv2.calcOpticalFlowFarneback(prvs,next, None, 0.5, 3, 15, 3, 5, 1.2, 0)\n",
    "\n",
    "        mag, ang = cv2.cartToPolar(flow[...,0], flow[...,1])\n",
    "        hsv[...,0] = ang*180/np.pi/2\n",
    "        hsv[...,2] = cv2.normalize(mag,None,0,255,cv2.NORM_MINMAX)\n",
    "        bgr = cv2.cvtColor(hsv,cv2.COLOR_HSV2BGR)\n",
    "   \n",
    "        cv2.imshow('frame2',bgr)\n",
    "        k = cv2.waitKey(30) & 0xff\n",
    "        if k == 27:\n",
    "            break\n",
    "        elif k == ord('s'):\n",
    "            cv2.imwrite('opticalfb.png',frame2)\n",
    "            cv2.imwrite('opticalhsv.png',bgr)\n",
    "        prvs = next\n",
    "   \n",
    "    cap.release()\n",
    "    cv2.destroyAllWindows()"
   ]
  },
  {
   "cell_type": "code",
   "execution_count": null,
   "metadata": {
    "colab": {
     "autoexec": {
      "startup": false,
      "wait_interval": 0
     }
    },
    "colab_type": "code",
    "id": "ExNYOE6jTBrY",
    "outputId": "be746463-0539-4abc-f410-47ece07645df"
   },
   "outputs": [
    {
     "name": "stdout",
     "output_type": "stream",
     "text": [
      "[ 1.83724289  0.06713018  0.93441583 ..., -0.3281157   0.40083236\n",
      "  1.02847649]\n",
      "[ 0.26752601  0.57297837  0.73026804 ...,  1.12205039 -1.26870576\n",
      " -0.07768208]\n"
     ]
    },
    {
     "data": {
      "image/png": "[encoded data removed]",
      "text/plain": [
       "<matplotlib.figure.Figure at 0x17f2b1f5b70>"
      ]
     },
     "metadata": {
      "tags": []
     },
     "output_type": "display_data"
    }
   ],
   "source": [
    "import matplotlib.pyplot as plt\n",
    "mean = [0, 0]\n",
    "cov = [[1, 0], [0, 1]]  # diagonal covariance\n",
    "x, y = np.random.multivariate_normal(mean, cov, 5000).T\n",
    "print(x)\n",
    "print(y)\n",
    "plt.plot(x, y, 'x')\n",
    "plt.axis('equal')\n",
    "plt.show()"
   ]
  },
  {
   "cell_type": "code",
   "execution_count": null,
   "metadata": {
    "colab": {
     "autoexec": {
      "startup": false,
      "wait_interval": 0
     }
    },
    "colab_type": "code",
    "id": "PBWZmNzoTBrc",
    "outputId": "87ea8b45-fd68-4753-a49d-eb0449c41b2f"
   },
   "outputs": [
    {
     "data": {
      "image/png": "[encoded data removed]",
      "text/plain": [
       "<matplotlib.figure.Figure at 0x17f28ff48d0>"
      ]
     },
     "metadata": {
      "tags": []
     },
     "output_type": "display_data"
    }
   ],
   "source": [
    "import numpy as np\n",
    "import matplotlib.pyplot as plt\n",
    "from matplotlib import cm\n",
    "from mpl_toolkits.mplot3d import Axes3D\n",
    "\n",
    "# Our 2-dimensional distribution will be over variables X and Y\n",
    "N = 65\n",
    "X = np.linspace(-1280/2, 1280/2, N)\n",
    "Y = np.linspace(-720/2, 720/2, N)\n",
    "X, Y = np.meshgrid(X, Y)\n",
    "\n",
    "# Mean vector and covariance matrix\n",
    "mu = np.array([0., 1.])\n",
    "Sigma = np.array([[ 1. , 0], [0,  1.5]])\n",
    "\n",
    "# Pack X and Y into a single 3-dimensional array\n",
    "pos = np.empty(X.shape + (2,))\n",
    "pos[:, :, 0] = X\n",
    "pos[:, :, 1] = Y\n",
    "\n",
    "def multivariate_gaussian(pos, mu, Sigma):\n",
    "    \"\"\"Return the multivariate Gaussian distribution on array pos.\n",
    "\n",
    "    pos is an array constructed by packing the meshed arrays of variables\n",
    "    x_1, x_2, x_3, ..., x_k into its _last_ dimension.\n",
    "\n",
    "    \"\"\"\n",
    "\n",
    "    n = mu.shape[0]\n",
    "    Sigma_det = np.linalg.det(Sigma)\n",
    "    Sigma_inv = np.linalg.inv(Sigma)\n",
    "    N = np.sqrt((2*np.pi)**n * Sigma_det)\n",
    "    # This einsum call calculates (x-mu)T.Sigma-1.(x-mu) in a vectorized\n",
    "    # way across all the input variables.\n",
    "    fac = np.einsum('...k,kl,...l->...', pos-mu, Sigma_inv, pos-mu)\n",
    "\n",
    "    return np.exp(-fac / 2) / N\n",
    "\n",
    "# The distribution on the variables X, Y packed into pos.\n",
    "Z = multivariate_gaussian(pos, mu, Sigma)\n",
    "\n",
    "# Create a surface plot and projected filled contour plot under it.\n",
    "fig = plt.figure()\n",
    "ax = fig.gca(projection='3d')\n",
    "ax.plot_surface(X, Y, Z, rstride=3, cstride=3, linewidth=1, antialiased=True,\n",
    "                cmap=cm.viridis)\n",
    "\n",
    "cset = ax.contourf(X, Y, Z, zdir='z', offset=-0.15, cmap=cm.viridis)\n",
    "\n",
    "# Adjust the limits, ticks and view angle\n",
    "ax.set_zlim(-0.15,0.2)\n",
    "ax.set_zticks(np.linspace(0,0.2,5))\n",
    "ax.view_init(27, -21)\n",
    "\n",
    "plt.show()"
   ]
  },
  {
   "cell_type": "code",
   "execution_count": null,
   "metadata": {
    "colab": {
     "autoexec": {
      "startup": false,
      "wait_interval": 0
     }
    },
    "colab_type": "code",
    "id": "tkfS1-n3TBrg",
    "outputId": "e4a96bfd-274d-4b1a-c2a5-08ffff235a1e"
   },
   "outputs": [
    {
     "name": "stderr",
     "output_type": "stream",
     "text": [
      "C:\\Users\\nishimura4\\Anaconda3\\lib\\site-packages\\torch\\cuda\\__init__.py:116: UserWarning: \n",
      "    Found GPU0 GeForce GTX 770 which is of cuda capability 3.0.\n",
      "    PyTorch no longer supports this GPU because it is too old.\n",
      "    \n",
      "  warnings.warn(old_gpu_warn % (d, name, major, capability[1]))\n"
     ]
    },
    {
     "data": {
      "text/plain": [
       "<tensorflow.python.client.session.Session at 0x184f4fec0b8>"
      ]
     },
     "execution_count": 1,
     "metadata": {
      "tags": []
     },
     "output_type": "execute_result"
    }
   ],
   "source": [
    "import torch\n",
    "torch.cuda.current_device()\n",
    "torch.cuda.device_count()\n",
    "torch.cuda.get_device_name(0)\n",
    "\n",
    "import tensorflow as tf\n",
    "tf.Session(config=tf.ConfigProto(log_device_placement=True))"
   ]
  }
 ],
 "metadata": {
  "colab": {
   "collapsed_sections": [],
   "default_view": {},
   "name": "ASD Vision measure.ipynb",
   "provenance": [],
   "toc_visible": true,
   "version": "0.3.2",
   "views": {}
  },
  "kernelspec": {
   "display_name": "Python 3",
   "language": "python",
   "name": "python3"
  },
  "language_info": {
   "codemirror_mode": {
    "name": "ipython",
    "version": 3
   },
   "file_extension": ".py",
   "mimetype": "text/x-python",
   "name": "python",
   "nbconvert_exporter": "python",
   "pygments_lexer": "ipython3",
   "version": "3.6.5"
  }
 },
 "nbformat": 4,
 "nbformat_minor": 2
}
