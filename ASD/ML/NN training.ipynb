{
 "cells": [
  {
   "cell_type": "code",
   "execution_count": 71,
   "metadata": {},
   "outputs": [],
   "source": [
    "import os\n",
    "import torch\n",
    "import cv2\n",
    "import numpy as np\n",
    "import matplotlib.pyplot as plt\n",
    "from numpy import genfromtxt\n",
    "import pickle"
   ]
  },
  {
   "cell_type": "markdown",
   "metadata": {},
   "source": [
    "<h1>Load Datasets</h1>"
   ]
  },
  {
   "cell_type": "code",
   "execution_count": 72,
   "metadata": {},
   "outputs": [
    {
     "name": "stdout",
     "output_type": "stream",
     "text": [
      "data:  (138, 10)\n",
      "labels:  138\n",
      "static: 22, move: 24, rot: 21, frot: 21, light: 23, dynamiclight: 22, unknown: 5\n"
     ]
    }
   ],
   "source": [
    "# Hyperparameters\n",
    "INIT_PATH = '../'\n",
    "TRAIN_RATIO = 0.7\n",
    "AMOUNT_OF_PARAMETERS = 7\n",
    "\n",
    "dataset = []\n",
    "\"\"\"\n",
    "static: 1,0,0,0,0,0,0\n",
    "move: 0,1,0,0,0,0,0\n",
    "rot: 0,0,1,0,0,0,0\n",
    "frot: 0,0,0,1,0,0,0\n",
    "light: 0,0,0,0,1,0,0\n",
    "dynamiclight: 0,0,0,0,0,1,0\n",
    "unknown: 0,0,0,0,0,0,1\n",
    "\n",
    "\"\"\"\n",
    "definition = ['static', 'move', 'rot', 'frot', 'light', 'dynamiclight','unknown']\n",
    "\n",
    "def normalize(dataset):\n",
    "    datasetTmp = np.copy(dataset)\n",
    "    maxx = np.max(dataset, axis=0)\n",
    "    minn = np.min(dataset, axis=0)\n",
    "    rangee = maxx - minn\n",
    "    datasetTmp -= minn\n",
    "    datasetTmp /= rangee\n",
    "    return datasetTmp\n",
    "\n",
    "def loadDataset(path):\n",
    "    dataset = (genfromtxt(INIT_PATH + path, delimiter=','))[1:,:]\n",
    "    dataset = normalize(dataset)\n",
    "    trainingAmount = int(TRAIN_RATIO * dataset.shape[0])\n",
    "    training_dataset = dataset[0:trainingAmount,:]\n",
    "    test_dataset = dataset[trainingAmount:,:]\n",
    "    print(\"data: \", dataset.shape)\n",
    "    return training_dataset.astype(float), test_dataset.astype(float)\n",
    "\n",
    "def loadLabel(path):\n",
    "#     labels = pickle.load(INIT_PATH + path)\n",
    "    with open(INIT_PATH + path, 'rb') as handle:\n",
    "        labels = pickle.load(handle)\n",
    "    ###### TEMPORALLY\n",
    "    del labels[-1]\n",
    "    ######\n",
    "    trainingAmount = int(TRAIN_RATIO * len(labels))\n",
    "    print(\"labels: \", len(labels))\n",
    "    training_labels = np.zeros((trainingAmount, AMOUNT_OF_PARAMETERS))\n",
    "    test_labels = np.zeros((len(labels) - trainingAmount, AMOUNT_OF_PARAMETERS))\n",
    "    label_counter = 0\n",
    "    per_label = [0] * AMOUNT_OF_PARAMETERS\n",
    "#     print(labels)\n",
    "    for label in labels:\n",
    "        tmp = np.zeros((1,AMOUNT_OF_PARAMETERS))\n",
    "        if (label == \"static\"):\n",
    "            tmp[0,0] = 1\n",
    "            per_label[0] += 1\n",
    "        elif (label == \"move\"):\n",
    "            tmp[0,1] = 1\n",
    "            per_label[1] += 1\n",
    "        elif (label == \"rot\"):\n",
    "            tmp[0,2] = 1\n",
    "            per_label[2] += 1            \n",
    "        elif (label == \"frot\"):\n",
    "            tmp[0,3] = 1\n",
    "            per_label[3] += 1\n",
    "        elif (label == \"light\"):\n",
    "            tmp[0,4] = 1\n",
    "            per_label[4] += 1\n",
    "        elif (label == \"dynamiclight\"):\n",
    "            tmp[0,5] = 1\n",
    "            per_label[5] += 1\n",
    "        else:\n",
    "            tmp[0,6] = 1\n",
    "            per_label[6] += 1\n",
    "        if(label_counter < trainingAmount):\n",
    "            training_labels[label_counter,:] = tmp\n",
    "        else:\n",
    "            test_labels[label_counter - trainingAmount,:] = tmp\n",
    "        label_counter += 1\n",
    "    print(\", \".join([definition[i] + \": \" + str(per_label[i]) for i in range (len(per_label))]))\n",
    "    return training_labels, test_labels\n",
    "training_dataset, test_dataset = loadDataset(\"FrankensteinFullForm.csv\")\n",
    "training_labels, test_labels = loadLabel(\"LabelFrankensteinFullForm.p\")"
   ]
  },
  {
   "cell_type": "code",
   "execution_count": 3,
   "metadata": {},
   "outputs": [
    {
     "name": "stdout",
     "output_type": "stream",
     "text": [
      "(96, 10)\n",
      "(42, 10)\n",
      "(96, 7)\n",
      "(42, 7)\n"
     ]
    }
   ],
   "source": [
    "print(training_dataset.shape)\n",
    "print(test_dataset.shape)\n",
    "print(training_labels.shape)\n",
    "print(test_labels.shape)\n",
    "# training_labels"
   ]
  },
  {
   "cell_type": "code",
   "execution_count": 73,
   "metadata": {},
   "outputs": [
    {
     "ename": "TypeError",
     "evalue": "only integer scalar arrays can be converted to a scalar index",
     "output_type": "error",
     "traceback": [
      "\u001b[0;31m---------------------------------------------------------------------------\u001b[0m",
      "\u001b[0;31mTypeError\u001b[0m                                 Traceback (most recent call last)",
      "\u001b[0;32m<ipython-input-73-1da483883aea>\u001b[0m in \u001b[0;36m<module>\u001b[0;34m()\u001b[0m\n\u001b[1;32m      6\u001b[0m     \u001b[0mshuffled_b\u001b[0m \u001b[0;34m=\u001b[0m \u001b[0mlabels\u001b[0m\u001b[0;34m[\u001b[0m\u001b[0mpermutation\u001b[0m\u001b[0;34m]\u001b[0m\u001b[0;34m\u001b[0m\u001b[0m\n\u001b[1;32m      7\u001b[0m     \u001b[0;32mreturn\u001b[0m \u001b[0mshuffled_a\u001b[0m\u001b[0;34m,\u001b[0m \u001b[0mshuffled_b\u001b[0m\u001b[0;34m\u001b[0m\u001b[0m\n\u001b[0;32m----> 8\u001b[0;31m \u001b[0mtraining_dataset\u001b[0m\u001b[0;34m,\u001b[0m \u001b[0mtest_dataset\u001b[0m \u001b[0;34m=\u001b[0m \u001b[0mrandomize\u001b[0m\u001b[0;34m(\u001b[0m\u001b[0mtraining_dataset\u001b[0m\u001b[0;34m,\u001b[0m \u001b[0mtest_dataset\u001b[0m\u001b[0;34m)\u001b[0m\u001b[0;34m\u001b[0m\u001b[0m\n\u001b[0m",
      "\u001b[0;32m<ipython-input-73-1da483883aea>\u001b[0m in \u001b[0;36mrandomize\u001b[0;34m(a, b)\u001b[0m\n\u001b[1;32m      3\u001b[0m     \u001b[0mpermutation\u001b[0m \u001b[0;34m=\u001b[0m \u001b[0mnp\u001b[0m\u001b[0;34m.\u001b[0m\u001b[0mrandom\u001b[0m\u001b[0;34m.\u001b[0m\u001b[0mpermutation\u001b[0m\u001b[0;34m(\u001b[0m\u001b[0ma\u001b[0m\u001b[0;34m.\u001b[0m\u001b[0mshape\u001b[0m\u001b[0;34m[\u001b[0m\u001b[0;36m0\u001b[0m\u001b[0;34m]\u001b[0m\u001b[0;34m)\u001b[0m\u001b[0;34m\u001b[0m\u001b[0m\n\u001b[1;32m      4\u001b[0m     \u001b[0;31m# Shuffle the arrays by giving the permutation in the square brackets.\u001b[0m\u001b[0;34m\u001b[0m\u001b[0;34m\u001b[0m\u001b[0m\n\u001b[0;32m----> 5\u001b[0;31m     \u001b[0mshuffled_a\u001b[0m \u001b[0;34m=\u001b[0m \u001b[0mdataset\u001b[0m\u001b[0;34m[\u001b[0m\u001b[0mpermutation\u001b[0m\u001b[0;34m]\u001b[0m\u001b[0;34m\u001b[0m\u001b[0m\n\u001b[0m\u001b[1;32m      6\u001b[0m     \u001b[0mshuffled_b\u001b[0m \u001b[0;34m=\u001b[0m \u001b[0mlabels\u001b[0m\u001b[0;34m[\u001b[0m\u001b[0mpermutation\u001b[0m\u001b[0;34m]\u001b[0m\u001b[0;34m\u001b[0m\u001b[0m\n\u001b[1;32m      7\u001b[0m     \u001b[0;32mreturn\u001b[0m \u001b[0mshuffled_a\u001b[0m\u001b[0;34m,\u001b[0m \u001b[0mshuffled_b\u001b[0m\u001b[0;34m\u001b[0m\u001b[0m\n",
      "\u001b[0;31mTypeError\u001b[0m: only integer scalar arrays can be converted to a scalar index"
     ]
    }
   ],
   "source": [
    "idx = np.random.permutation(len(data))\n",
    "x,y = data[idx], classes[idx]"
   ]
  },
  {
   "cell_type": "code",
   "execution_count": 4,
   "metadata": {},
   "outputs": [
    {
     "name": "stdout",
     "output_type": "stream",
     "text": [
      "(array([0.1092296 , 0.16715095, 0.52934208, 0.21504995, 0.23992044,\n",
      "       0.32241417, 0.31384785, 0.05240026, 0.41536227, 0.12281167]), array([1., 0., 0., 0., 0., 0., 0.]))\n",
      "96\n"
     ]
    }
   ],
   "source": [
    "from torch.utils.data import Dataset, DataLoader\n",
    "\n",
    "class Data(Dataset):\n",
    "    def __init__( self, data, labels, transform=None, data_dir=None):\n",
    "        self.data = data\n",
    "        self.labels = labels\n",
    "        self.transform = transform\n",
    "    def __getitem__(self,index):\n",
    "        singleData = self.data[index]\n",
    "        singleLabel = self.labels[index]\n",
    "        return (singleData, singleLabel)\n",
    "    def __len__(self):\n",
    "        return len(self.data)\n",
    "training_set = Data(training_dataset, training_labels)\n",
    "test_set = Data(test_dataset, test_labels)\n",
    "print(training_set.__getitem__(10))\n",
    "print(training_set.__len__())"
   ]
  },
  {
   "cell_type": "code",
   "execution_count": 5,
   "metadata": {},
   "outputs": [
    {
     "name": "stdout",
     "output_type": "stream",
     "text": [
      "torch.Size([4, 10])\n"
     ]
    }
   ],
   "source": [
    "trainloader = DataLoader(training_set, batch_size = 4, shuffle = True)\n",
    "dataiter = iter(trainloader)\n",
    "datum,label = dataiter.next()\n",
    "print(datum.shape)\n",
    "\n",
    "testloader = DataLoader(test_set, batch_size = 4, shuffle = True)"
   ]
  },
  {
   "cell_type": "code",
   "execution_count": 6,
   "metadata": {},
   "outputs": [
    {
     "name": "stdout",
     "output_type": "stream",
     "text": [
      "LinearRegressionModel(\n",
      "  (fc1): Linear(in_features=10, out_features=7, bias=True)\n",
      ")\n"
     ]
    }
   ],
   "source": [
    "from torch.autograd import Variable\n",
    "import torch.nn as nn\n",
    "import torch.nn.functional as F\n",
    "\n",
    "class LinearRegressionModel(nn.Module):\n",
    "    def __init__(self, input_dim, output_dim):\n",
    "        super(LinearRegressionModel, self).__init__()\n",
    "        self.fc1 = nn.Linear(input_dim, output_dim)\n",
    "#         self.fc1 = nn.Linear(input_dim, 100)\n",
    "#         self.fc2 = nn.Linear(100, output_dim)\n",
    "    def forward(self, x):\n",
    "        x = F.relu(self.fc1(x))\n",
    "#         x = F.relu(self.fc2(x))\n",
    "        return x\n",
    "LRNet = LinearRegressionModel(10,7)\n",
    "# LRNet = LRNet.cuda()\n",
    "print(LRNet)"
   ]
  },
  {
   "cell_type": "code",
   "execution_count": 19,
   "metadata": {},
   "outputs": [],
   "source": [
    "import torch.optim as optim\n",
    "\n",
    "criterion =  nn.MSELoss()\n",
    "# optimizer = optim.SGD(LRNet.parameters(), lr = 0.001, momentum = 0.9)\n",
    "optimizer = optim.SGD(LRNet.parameters(), lr = 0.001)"
   ]
  },
  {
   "cell_type": "code",
   "execution_count": 22,
   "metadata": {},
   "outputs": [
    {
     "name": "stderr",
     "output_type": "stream",
     "text": [
      "/home/bon/anaconda3/lib/python3.6/site-packages/ipykernel_launcher.py:17: UserWarning: invalid index of a 0-dim tensor. This will be an error in PyTorch 0.5. Use tensor.item() to convert a 0-dim tensor to a Python number\n"
     ]
    },
    {
     "name": "stdout",
     "output_type": "stream",
     "text": [
      "[1,     1] loss: 0.009\n",
      "[1,    11] loss: 0.086\n",
      "[1,    21] loss: 0.098\n",
      "[2,     1] loss: 0.006\n",
      "[2,    11] loss: 0.081\n",
      "[2,    21] loss: 0.101\n",
      "[3,     1] loss: 0.012\n",
      "[3,    11] loss: 0.078\n",
      "[3,    21] loss: 0.101\n",
      "[4,     1] loss: 0.013\n",
      "[4,    11] loss: 0.092\n",
      "[4,    21] loss: 0.099\n",
      "[5,     1] loss: 0.009\n",
      "[5,    11] loss: 0.106\n",
      "[5,    21] loss: 0.078\n",
      "[6,     1] loss: 0.008\n",
      "[6,    11] loss: 0.079\n",
      "[6,    21] loss: 0.094\n",
      "[7,     1] loss: 0.003\n",
      "[7,    11] loss: 0.097\n",
      "[7,    21] loss: 0.090\n",
      "[8,     1] loss: 0.008\n",
      "[8,    11] loss: 0.088\n",
      "[8,    21] loss: 0.088\n",
      "[9,     1] loss: 0.009\n",
      "[9,    11] loss: 0.092\n",
      "[9,    21] loss: 0.080\n",
      "[10,     1] loss: 0.009\n",
      "[10,    11] loss: 0.076\n",
      "[10,    21] loss: 0.111\n",
      "[11,     1] loss: 0.007\n",
      "[11,    11] loss: 0.103\n",
      "[11,    21] loss: 0.080\n",
      "[12,     1] loss: 0.005\n",
      "[12,    11] loss: 0.085\n",
      "[12,    21] loss: 0.100\n",
      "[13,     1] loss: 0.012\n",
      "[13,    11] loss: 0.083\n",
      "[13,    21] loss: 0.090\n",
      "[14,     1] loss: 0.009\n",
      "[14,    11] loss: 0.074\n",
      "[14,    21] loss: 0.097\n",
      "[15,     1] loss: 0.009\n",
      "[15,    11] loss: 0.078\n",
      "[15,    21] loss: 0.102\n",
      "[16,     1] loss: 0.007\n",
      "[16,    11] loss: 0.092\n",
      "[16,    21] loss: 0.088\n",
      "[17,     1] loss: 0.012\n",
      "[17,    11] loss: 0.087\n",
      "[17,    21] loss: 0.080\n",
      "[18,     1] loss: 0.012\n",
      "[18,    11] loss: 0.086\n",
      "[18,    21] loss: 0.084\n",
      "[19,     1] loss: 0.008\n",
      "[19,    11] loss: 0.078\n",
      "[19,    21] loss: 0.097\n",
      "[20,     1] loss: 0.009\n",
      "[20,    11] loss: 0.093\n",
      "[20,    21] loss: 0.088\n",
      "[21,     1] loss: 0.015\n",
      "[21,    11] loss: 0.081\n",
      "[21,    21] loss: 0.090\n",
      "[22,     1] loss: 0.009\n",
      "[22,    11] loss: 0.093\n",
      "[22,    21] loss: 0.086\n",
      "[23,     1] loss: 0.014\n",
      "[23,    11] loss: 0.084\n",
      "[23,    21] loss: 0.091\n",
      "[24,     1] loss: 0.007\n",
      "[24,    11] loss: 0.091\n",
      "[24,    21] loss: 0.087\n",
      "[25,     1] loss: 0.007\n",
      "[25,    11] loss: 0.092\n",
      "[25,    21] loss: 0.094\n",
      "[26,     1] loss: 0.010\n",
      "[26,    11] loss: 0.093\n",
      "[26,    21] loss: 0.086\n",
      "[27,     1] loss: 0.008\n",
      "[27,    11] loss: 0.091\n",
      "[27,    21] loss: 0.090\n",
      "[28,     1] loss: 0.008\n",
      "[28,    11] loss: 0.084\n",
      "[28,    21] loss: 0.088\n",
      "[29,     1] loss: 0.008\n",
      "[29,    11] loss: 0.089\n",
      "[29,    21] loss: 0.093\n",
      "[30,     1] loss: 0.008\n",
      "[30,    11] loss: 0.088\n",
      "[30,    21] loss: 0.093\n",
      "[31,     1] loss: 0.011\n",
      "[31,    11] loss: 0.074\n",
      "[31,    21] loss: 0.103\n",
      "[32,     1] loss: 0.012\n",
      "[32,    11] loss: 0.092\n",
      "[32,    21] loss: 0.091\n",
      "[33,     1] loss: 0.014\n",
      "[33,    11] loss: 0.097\n",
      "[33,    21] loss: 0.081\n",
      "[34,     1] loss: 0.006\n",
      "[34,    11] loss: 0.096\n",
      "[34,    21] loss: 0.088\n",
      "[35,     1] loss: 0.018\n",
      "[35,    11] loss: 0.087\n",
      "[35,    21] loss: 0.081\n",
      "[36,     1] loss: 0.009\n",
      "[36,    11] loss: 0.085\n",
      "[36,    21] loss: 0.101\n",
      "[37,     1] loss: 0.010\n",
      "[37,    11] loss: 0.082\n",
      "[37,    21] loss: 0.093\n",
      "[38,     1] loss: 0.006\n",
      "[38,    11] loss: 0.080\n",
      "[38,    21] loss: 0.102\n",
      "[39,     1] loss: 0.012\n",
      "[39,    11] loss: 0.085\n",
      "[39,    21] loss: 0.098\n",
      "[40,     1] loss: 0.008\n",
      "[40,    11] loss: 0.093\n",
      "[40,    21] loss: 0.096\n",
      "[41,     1] loss: 0.007\n",
      "[41,    11] loss: 0.086\n",
      "[41,    21] loss: 0.096\n",
      "[42,     1] loss: 0.012\n",
      "[42,    11] loss: 0.105\n",
      "[42,    21] loss: 0.081\n",
      "[43,     1] loss: 0.011\n",
      "[43,    11] loss: 0.086\n",
      "[43,    21] loss: 0.103\n",
      "[44,     1] loss: 0.010\n",
      "[44,    11] loss: 0.085\n",
      "[44,    21] loss: 0.097\n",
      "[45,     1] loss: 0.012\n",
      "[45,    11] loss: 0.086\n",
      "[45,    21] loss: 0.085\n",
      "[46,     1] loss: 0.007\n",
      "[46,    11] loss: 0.083\n",
      "[46,    21] loss: 0.101\n",
      "[47,     1] loss: 0.013\n",
      "[47,    11] loss: 0.085\n",
      "[47,    21] loss: 0.093\n",
      "[48,     1] loss: 0.008\n",
      "[48,    11] loss: 0.088\n",
      "[48,    21] loss: 0.096\n",
      "[49,     1] loss: 0.010\n",
      "[49,    11] loss: 0.088\n",
      "[49,    21] loss: 0.092\n",
      "[50,     1] loss: 0.011\n",
      "[50,    11] loss: 0.074\n",
      "[50,    21] loss: 0.096\n",
      "finished training\n"
     ]
    }
   ],
   "source": [
    "for epoch in range (50):\n",
    "    running_loss = 0.0\n",
    "    for i, data in enumerate(trainloader, 0):\n",
    "        inputt, labell = data\n",
    "        inputs, labels = Variable(inputt.float()), Variable(labell.float())\n",
    "#         print(inputs)\n",
    "#         print(inputs.double())\n",
    "        optimizer.zero_grad()\n",
    "        outputs = LRNet(inputs)\n",
    "#         if i == 1:\n",
    "#             print('inputs: ',inputs[0])\n",
    "#             print('outputs:', outputs[0])\n",
    "#             print(\"labels:\", labels[0])\n",
    "        loss = criterion(outputs, labels)\n",
    "        loss.backward()\n",
    "        optimizer.step()\n",
    "        running_loss += loss.data[0]\n",
    "#         print('loss meme:',loss)\n",
    "        if(i % 10 == 0):\n",
    "            print('[%d, %5d] loss: %.3f' %\n",
    "                (epoch + 1, i + 1, running_loss / 10))\n",
    "            running_loss = 0.0\n",
    "print('finished training')"
   ]
  },
  {
   "cell_type": "code",
   "execution_count": 23,
   "metadata": {},
   "outputs": [],
   "source": [
    "def outputToTensor(labels):\n",
    "    # print(labels)\n",
    "    # print(labels.numpy().astype(int))\n",
    "    tmp = labels.numpy().astype(int)\n",
    "    # print([ np.where(r==1)[0][0] for r in tmp ])\n",
    "    tmp = [ np.where(r==1)[0][0] for r in tmp ]\n",
    "    tmp = np.array(tmp)\n",
    "    tmp = torch.from_numpy(tmp)\n",
    "    # print(tmp)\n",
    "    return tmp"
   ]
  },
  {
   "cell_type": "code",
   "execution_count": 41,
   "metadata": {},
   "outputs": [
    {
     "name": "stdout",
     "output_type": "stream",
     "text": [
      "Ground truth :  [0. 0. 0. 0. 0. 1. 0.] [0. 0. 0. 1. 0. 0. 0.] [0. 0. 0. 1. 0. 0. 0.] [0. 0. 0. 0. 1. 0. 0.]\n",
      "Predicted torch :  tensor([ 4,  1,  4,  4])\n",
      "Predicted :  light move light light\n"
     ]
    }
   ],
   "source": [
    "definition = ['static', 'move', 'rot', 'frot', 'light', 'dynamiclight','unknown']\n",
    "\n",
    "\"\"\"\n",
    "static: 1,0,0,0,0,0,0\n",
    "move: 0,1,0,0,0,0,0\n",
    "rot: 0,0,1,0,0,0,0\n",
    "frot: 0,0,0,1,0,0,0\n",
    "light: 0,0,0,0,1,0,0\n",
    "dynamiclight: 0,0,0,0,0,1,0\n",
    "unknown: 0,0,0,0,0,0,1\n",
    "\"\"\"\n",
    "\n",
    "\n",
    "def imshow(img):\n",
    "    img = img / 2 + 0.5     # unnormalize\n",
    "    npimg = img.numpy()\n",
    "    plt.imshow(np.transpose(npimg, (1, 2, 0)))\n",
    "\n",
    "\n",
    "dataiter  = iter(testloader)\n",
    "test_data,labels = dataiter.next()\n",
    "# show images\n",
    "# imshow(torchvision.utils.make_grid(test_data))\n",
    "# print labels\n",
    "print(\"Ground truth : \", ' '.join(np.array2string(x.numpy()) for x in labels))\n",
    "# print('dimensions : ',' '.join(x.numpy().shape for x in images))\n",
    "# imshow(torchvision.utils.make_grid(test_data))\n",
    "\n",
    "outputs = LRNet(Variable(test_data.float()))\n",
    "# print('outputs:',outputs)\n",
    "_,predicted = torch.max(outputs.data, 1)\n",
    "print('Predicted torch : ',predicted )\n",
    "print('Predicted : ',' '.join(definition[predicted[i]] for i in range(4)))\n",
    "\n",
    "# print('Predicted :',' '.join('%5s'% classes[int(predicted[j])] for j in range(4) ))"
   ]
  },
  {
   "cell_type": "code",
   "execution_count": 70,
   "metadata": {},
   "outputs": [
    {
     "name": "stdout",
     "output_type": "stream",
     "text": [
      "tensor([ 3,  4,  4,  1]) tensor([ 2,  5,  2,  3]) tensor([ 0,  0,  0,  0], dtype=torch.uint8)\n",
      "tensor([ 5,  4,  4,  1]) tensor([ 3,  6,  5,  2]) tensor([ 0,  0,  0,  0], dtype=torch.uint8)\n",
      "tensor([ 4,  4,  4,  4]) tensor([ 5,  5,  5,  5]) tensor([ 0,  0,  0,  0], dtype=torch.uint8)\n",
      "tensor([ 3,  4,  4,  5]) tensor([ 2,  5,  6,  3]) tensor([ 0,  0,  0,  0], dtype=torch.uint8)\n",
      "tensor([ 4,  4,  4,  1]) tensor([ 3,  5,  4,  3]) tensor([ 0,  0,  1,  0], dtype=torch.uint8)\n",
      "tensor([ 1,  3,  4,  4]) tensor([ 2,  2,  2,  3]) tensor([ 0,  0,  0,  0], dtype=torch.uint8)\n",
      "tensor([ 4,  5,  4,  5]) tensor([ 5,  3,  5,  3]) tensor([ 0,  0,  0,  0], dtype=torch.uint8)\n",
      "tensor([ 4,  4,  5,  4]) tensor([ 2,  2,  3,  5]) tensor([ 0,  0,  0,  0], dtype=torch.uint8)\n",
      "tensor([ 4,  4,  1,  4]) tensor([ 2,  5,  3,  5]) tensor([ 0,  0,  0,  0], dtype=torch.uint8)\n",
      "tensor([ 4,  5,  4,  5]) tensor([ 2,  3,  5,  3]) tensor([ 0,  0,  0,  0], dtype=torch.uint8)\n",
      "tensor([ 4,  4]) tensor([ 4,  5]) tensor([ 1,  0], dtype=torch.uint8)\n",
      "Accuracy : tensor(0)\n"
     ]
    }
   ],
   "source": [
    "correct = 0\n",
    "total = 0\n",
    "i = 0\n",
    "for data in testloader:\n",
    "    i += 1\n",
    "    images,labels = data\n",
    "#     print('raw label : ',labels)\n",
    "    outputs = LRNet(Variable(images.float()))\n",
    "    _,predicted = torch.max(outputs.data, 1)\n",
    "    print(predicted, labels.max(1)[1].long(), labels.max(1)[1].long() == predicted.long())\n",
    "#     labels = outputToTensor(labels)\n",
    "    total += labels.size(0)\n",
    "#     print('predicted : ',predicted)\n",
    "    compared = labels.max(1)[1].long() == predicted.long()\n",
    "#     print('compare result : ', compared)\n",
    "    correct += (compared).sum()    \n",
    "print('Accuracy :',(correct/total*100))"
   ]
  },
  {
   "cell_type": "code",
   "execution_count": 227,
   "metadata": {},
   "outputs": [
    {
     "data": {
      "text/plain": [
       "tensor([ 2,  3,  5,  5])"
      ]
     },
     "execution_count": 227,
     "metadata": {},
     "output_type": "execute_result"
    }
   ],
   "source": [
    "tmp\n",
    "tmp.max(1)[1]"
   ]
  }
 ],
 "metadata": {
  "kernelspec": {
   "display_name": "Python 3",
   "language": "python",
   "name": "python3"
  },
  "language_info": {
   "codemirror_mode": {
    "name": "ipython",
    "version": 3
   },
   "file_extension": ".py",
   "mimetype": "text/x-python",
   "name": "python",
   "nbconvert_exporter": "python",
   "pygments_lexer": "ipython3",
   "version": "3.6.5"
  }
 },
 "nbformat": 4,
 "nbformat_minor": 2
}
