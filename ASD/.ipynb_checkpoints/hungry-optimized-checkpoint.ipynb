{
 "cells": [
  {
   "cell_type": "code",
   "execution_count": 1,
   "metadata": {
    "colab": {
     "autoexec": {
      "startup": false,
      "wait_interval": 0
     }
    },
    "colab_type": "code",
    "id": "Kv2It0UYTBq7"
   },
   "outputs": [],
   "source": [
    "import cv2\n",
    "import matplotlib.pyplot as plt\n",
    "import os\n",
    "import numpy as np\n",
    "\n",
    "# TIME_FRAMES = 50\n",
    "BUFFER_SIZE = 100\n",
    "# AMOUNT_OF_FRAMES = TIME_FRAMES - BUFFER_SIZE + 1\n",
    "# AMOUNT_OF_VIDEOS = int(input(\"amount of videos: \"))\n",
    "\n",
    "WIDTH = 1280\n",
    "HEIGHT = 720\n",
    "\n",
    "frame_sq = []\n",
    "frame_sq_gray = []\n",
    "frame_sq_edges = []\n",
    "\n",
    "# dataset_no = input(\"starting number: \")\n",
    "video_count = 0\n",
    "                    \n",
    "\n",
    "\n",
    "\n",
    "# rgb = np.ndarray((TIME_FRAMES - (TIME_FRAMES % BUFFER_SIZE), 3))\n",
    "\n"
   ]
  },
  {
   "cell_type": "code",
   "execution_count": 2,
   "metadata": {
    "colab": {
     "autoexec": {
      "startup": false,
      "wait_interval": 0
     }
    },
    "colab_type": "code",
    "collapsed": true,
    "id": "UMWqnsH9TBrC"
   },
   "outputs": [],
   "source": [
    "def calculate_n_of_hsv(frame_sq,n):\n",
    "    sum_n = 0\n",
    "    var_n = 0\n",
    "    for frame in frame_sq:\n",
    "        var_n += np.var(frame[:,:,n])# / (np.mean(frame[:,:,n]) * 1\n",
    "        sum_n += np.sum(frame[:,:,n])\n",
    "\n",
    "    avg_n = sum_n/ (len(frame_sq) * frame_sq[0].shape[0] * frame_sq[0].shape[1])\n",
    "    return np.array([avg_n ,var_n])\n",
    "def calculate_comp(frame_sq):\n",
    "    sum_comp = 0\n",
    "    for i in range(len(frame_sq)):\n",
    "        if(i != 0):\n",
    "            sum_comp += compare_img(frame_sq[i], frame_sq[i-1])\n",
    "#         if(i == 1): print(compare_img(frame_sq[i], frame_sq[i-1]))\n",
    "    sum_comp /= (len(frame_sq) - 1)\n",
    "    return sum_comp\n",
    "def calculate_opticFlow(frame_sq):\n",
    "    prvs = cv2.resize(frame_sq[0],(0,0),fx=0.5,fy=0.5)\n",
    "    mag_sum = 0\n",
    "    ang_sum = 0\n",
    "    var_mag = 0\n",
    "    var_ang = 0\n",
    "    for i in range(1,len(frame_sq)):\n",
    "        frame2 = frame_sq[i]\n",
    "        next = cv2.resize(frame2, (0,0), fx=0.5, fy=0.5) \n",
    "        flow = cv2.calcOpticalFlowFarneback(prvs,next, None, 0.5, 3, 15, 3, 5, 1.2, 0)\n",
    "        mag, ang = cv2.cartToPolar(flow[...,0], flow[...,1])\n",
    "        mag = cv2.normalize(mag,None,0,1,cv2.NORM_MINMAX)\n",
    "        ang = np.absolute(cv2.normalize(ang,None,-1,1,cv2.NORM_MINMAX))\n",
    "        mag_sum = np.sum(mag)\n",
    "        ang_sum = np.sum(ang)\n",
    "        var_mag += np.var(mag)\n",
    "        var_ang += np.var(ang)\n",
    "    mag_sum /= (BUFFER_SIZE * WIDTH * HEIGHT)\n",
    "    ang_sum /= (BUFFER_SIZE * WIDTH * HEIGHT)\n",
    "    var_mag /= BUFFER_SIZE\n",
    "    var_ang /= BUFFER_SIZE\n",
    "    return np.array([mag_sum, ang_sum, var_mag, var_ang])\n",
    "def calculate_opticflow_of_pair(prvs,next):\n",
    "    flow = cv2.calcOpticalFlowFarneback(prvs,next, None, 0.5, 3, 15, 3, 5, 1.2, 0)\n",
    "    return flow\n",
    "def calculate_opticflow_final(sq):\n",
    "    mag_sum = 0\n",
    "    ang_sum = 0\n",
    "    var_mag = 0\n",
    "    var_ang = 0\n",
    "    for flow in sq:\n",
    "        mag, ang = cv2.cartToPolar(flow[...,0], flow[...,1])\n",
    "        mag = cv2.normalize(mag,None,0,1,cv2.NORM_MINMAX)\n",
    "        ang = np.absolute(cv2.normalize(ang,None,-1,1,cv2.NORM_MINMAX))\n",
    "        mag_sum = np.sum(mag)\n",
    "        ang_sum = np.sum(ang)\n",
    "        var_mag += np.var(mag)\n",
    "        var_ang += np.var(ang)\n",
    "    mag_sum /= (BUFFER_SIZE * WIDTH * HEIGHT)\n",
    "    ang_sum /= (BUFFER_SIZE * WIDTH * HEIGHT)\n",
    "    var_mag /= BUFFER_SIZE\n",
    "    var_ang /= BUFFER_SIZE\n",
    "    return np.array([mag_sum, ang_sum, var_mag, var_ang])"
   ]
  },
  {
   "cell_type": "code",
   "execution_count": 11,
   "metadata": {
    "collapsed": true
   },
   "outputs": [],
   "source": [
    "def compare_img(img1,img2):\n",
    "    img1 = normalize_gray(img1)\n",
    "    img2 = normalize_gray(img2)\n",
    "    diff = img1 - img2\n",
    "    m_norm = np.sum(abs(diff))\n",
    "#     return m_norm\n",
    "    return 0\n",
    "def normalize_frame(frame):\n",
    "    return frame/255\n",
    "\n",
    "def normalize_gray(frame):\n",
    "    rng = np.max(frame) - np.min(frame)\n",
    "    amin = np.min(frame)\n",
    "    return (frame-amin)/rng #range from [0,1]\n",
    "def createDataset(data):\n",
    "    dataset = data[0].copy()\n",
    "#     dataset.remove(dataset[0])\n",
    "#     for datum in data:\n",
    "#         dataset = np.append(dataset, datum, axis = 1)\n",
    "#     result  = np.append(data[0],np.append(dataset[1],np.append(dataset[2],dataset[3],axis=1),axis=1),axis=1)\n",
    "    result = np.append(h,np.append(s,np.append(v,opticFlow,axis=1),axis=1),axis=1)\n",
    "    return result\n",
    "def createTSV(dataset,filename):\n",
    "    dataset = (dataset.copy()).astype(str)\n",
    "#     datasetName = \"dataset\" + str(dataset_no) + \".tsv\"\n",
    "    datasetName = filename + \".tsv\"\n",
    "    file = open(datasetName, \"w\")\n",
    "#     file.write(\"h\\ts\\tv\\tframe_edges_comp\\tframe_comp\\n\")\n",
    "    for i in range(dataset.shape[0]):\n",
    "        file.write(\"\\t\".join(dataset[i,:].tolist()))\n",
    "        file.write(\"\\n\")\n",
    "#         if(i + 1 != dataset.shape[0]):\n",
    "#             file.write(\"\\n\")\n",
    "    file.close()\n",
    "    return\n",
    "def createTSVLabel(dataset,filename):\n",
    "    dataset = (dataset.copy()).astype(str)\n",
    "#     datasetName = \"label\" + str(dataset_no) + \".tsv\"\n",
    "    datasetName = filename\n",
    "    file = open(datasetName, \"w\")\n",
    "    file.write(\"havg\\thv\\tsavg\\tsv\\tvavg\\tvv\\tmagavg\\tmagv\\tangavg\\tangv\\n\")\n",
    "    for i in range(dataset.shape[0]):\n",
    "        file.write(\"\\t\".join(dataset[i,:].tolist()))\n",
    "        file.write(\"\\n\")\n",
    "#         if(i + 1 != dataset.shape[0]):\n",
    "#             file.write(\"\\n\")\n",
    "    file.close()\n",
    "    return\n"
   ]
  },
  {
   "cell_type": "code",
   "execution_count": 4,
   "metadata": {},
   "outputs": [
    {
     "ename": "NameError",
     "evalue": "name 'h' is not defined",
     "output_type": "error",
     "traceback": [
      "\u001b[0;31m---------------------------------------------------------------------------\u001b[0m",
      "\u001b[0;31mNameError\u001b[0m                                 Traceback (most recent call last)",
      "\u001b[0;32m<ipython-input-4-5153131880fe>\u001b[0m in \u001b[0;36m<module>\u001b[0;34m()\u001b[0m\n\u001b[0;32m----> 1\u001b[0;31m \u001b[0mtmp\u001b[0m \u001b[0;34m=\u001b[0m \u001b[0mnp\u001b[0m\u001b[0;34m.\u001b[0m\u001b[0mappend\u001b[0m\u001b[0;34m(\u001b[0m\u001b[0mh\u001b[0m\u001b[0;34m,\u001b[0m\u001b[0mnp\u001b[0m\u001b[0;34m.\u001b[0m\u001b[0mappend\u001b[0m\u001b[0;34m(\u001b[0m\u001b[0ms\u001b[0m\u001b[0;34m,\u001b[0m\u001b[0mnp\u001b[0m\u001b[0;34m.\u001b[0m\u001b[0mappend\u001b[0m\u001b[0;34m(\u001b[0m\u001b[0mv\u001b[0m\u001b[0;34m,\u001b[0m\u001b[0mopticFlow\u001b[0m\u001b[0;34m,\u001b[0m\u001b[0maxis\u001b[0m\u001b[0;34m=\u001b[0m\u001b[0;36m1\u001b[0m\u001b[0;34m)\u001b[0m\u001b[0;34m,\u001b[0m\u001b[0maxis\u001b[0m\u001b[0;34m=\u001b[0m\u001b[0;36m1\u001b[0m\u001b[0;34m)\u001b[0m\u001b[0;34m,\u001b[0m\u001b[0maxis\u001b[0m\u001b[0;34m=\u001b[0m\u001b[0;36m1\u001b[0m\u001b[0;34m)\u001b[0m\u001b[0;34m\u001b[0m\u001b[0m\n\u001b[0m\u001b[1;32m      2\u001b[0m \u001b[0mtmp\u001b[0m\u001b[0;34m.\u001b[0m\u001b[0mshape\u001b[0m\u001b[0;34m\u001b[0m\u001b[0m\n",
      "\u001b[0;31mNameError\u001b[0m: name 'h' is not defined"
     ]
    }
   ],
   "source": [
    "tmp = np.append(h,np.append(s,np.append(v,opticFlow,axis=1),axis=1),axis=1)\n",
    "tmp.shape"
   ]
  },
  {
   "cell_type": "markdown",
   "metadata": {},
   "source": [
    "<h1>Normalization</h1>"
   ]
  },
  {
   "cell_type": "code",
   "execution_count": 9,
   "metadata": {},
   "outputs": [
    {
     "name": "stdout",
     "output_type": "stream",
     "text": [
      "StandardScaler(copy=True, with_mean=True, with_std=True)\n"
     ]
    }
   ],
   "source": [
    "# def normalize(dataset):\n",
    "#     dataset = np.copy(dataset)\n",
    "#     datasetNan = np.isnan(dataset).any(axis=1)\n",
    "#     nans = []\n",
    "#     for i in range(datasetNan.shape[0]):\n",
    "#         if(datasetNan[i] == True):\n",
    "#             nans.append(i)\n",
    "#     dataset = dataset[~np.isnan(dataset).any(axis=1)]\n",
    "#     max_values = np.max(dataset,axis=0)\n",
    "#     min_values = np.min(dataset,axis=0)\n",
    "#     ranges = max_values - min_values\n",
    "#     dataset /= ranges\n",
    "#     return (dataset,nans)\n",
    "\n",
    "# def normalize(dataset):\n",
    "#     datasetTmp = np.copy(dataset)\n",
    "#     maxx = np.max(dataset, axis=0)\n",
    "#     minn = np.min(dataset, axis=0)\n",
    "#     rangee = maxx - minn\n",
    "#     datasetTmp -= minn\n",
    "#     datasetTmp /= rangee\n",
    "#     print(\"minn: \",minn)\n",
    "#     print(\"rangee: \",rangee)\n",
    "#     return (datasetTmp)\n",
    "from sklearn.preprocessing import StandardScaler\n",
    "from numpy import genfromtxt\n",
    "dataset = (genfromtxt(\"./unnormFrankensteinFullForm.csv\", delimiter=','))[1:,:]\n",
    "scaler = StandardScaler(copy=True)\n",
    "print(scaler.fit(dataset))\n",
    "def normalize(dataset):\n",
    "    datasetTmp = scaler.transform(dataset)\n",
    "    return datasetTmp"
   ]
  },
  {
   "cell_type": "code",
   "execution_count": 10,
   "metadata": {
    "collapsed": true
   },
   "outputs": [],
   "source": [
    "# def createCSV(dataset):\n",
    "#     dataset = (dataset.copy()).astype(str)\n",
    "#     dataset_name = \"dataset\" + str(dataset_no) + \".csv\"\n",
    "#     csv = open(dataset_name, \"w\")\n",
    "#     columnTitleRow = \"havg,hv,savg,sv,vavg,vv,magavg,magv,angavg,angv\\n\"\n",
    "#     csv.write(columnTitleRow)\n",
    "#     for i in range(dataset.shape[0]):\n",
    "#         csv.write(\",\".join(dataset[i,:].tolist()))\n",
    "#         csv.write(\"\\n\")\n",
    "#     csv.close()\n",
    "def createCSV(dataset,filename):\n",
    "    dataset = (dataset.copy()).astype(str)\n",
    "#     dataset_name = \"dataset\" + str(dataset_no) + \".csv\"\n",
    "    dataset_name = filename + \".csv\"\n",
    "    csv = open(dataset_name, \"w\")\n",
    "    columnTitleRow = \"havg,hv,savg,sv,vavg,vv,magavg,magv,angavg,angv\\n\"\n",
    "    csv.write(columnTitleRow)\n",
    "    for i in range(dataset.shape[0]):\n",
    "        csv.write(\",\".join(dataset[i,:].tolist()))\n",
    "        csv.write(\"\\n\")\n",
    "    csv.close()"
   ]
  },
  {
   "cell_type": "code",
   "execution_count": 7,
   "metadata": {},
   "outputs": [],
   "source": [
    "createCSV(normalize(dataset),\"tryout\")"
   ]
  },
  {
   "cell_type": "markdown",
   "metadata": {},
   "source": [
    "<h1>STORE VIDEOS</h1>"
   ]
  },
  {
   "cell_type": "code",
   "execution_count": null,
   "metadata": {},
   "outputs": [],
   "source": [
    "import os\n",
    "import cv2\n",
    "import sys\n",
    "\n",
    "directory_name = input(\"directory name: \")\n",
    "os.makedirs(directory_name)\n",
    "\n",
    "BUFFER_SIZE = 100\n",
    "# AMOUNT_OF_VIDEOS = 70\n",
    "RECORD_AMOUNT = 20\n",
    "video_count = 91\n",
    "\n",
    "for i in range(RECORD_AMOUNT + 1):\n",
    "#     print(\"recording video \" + str(video_count) + \"...\")\n",
    "    sys.stdout.write(\"\\r\" + \"recording video \" + str(video_count) + \"...\")\n",
    "    sys.stdout.flush()\n",
    "    cap = cv2.VideoCapture(0)\n",
    "    WIDTH = int(cap.get(3))\n",
    "    HEIGHT = int(cap.get(4))\n",
    "    video_name = directory_name + \"/\" + str(video_count) + \".avi\"\n",
    "    fourcc = cv2.VideoWriter_fourcc(*'XVID')\n",
    "    out = cv2.VideoWriter(directory_name + \"/\" + str(video_count) + '.avi',fourcc, 20.0, (640,480))\n",
    "    frame_counter = 0\n",
    "    while(True):\n",
    "        ret, frame = cap.read()\n",
    "        if (ret == True):\n",
    "            out.write(frame)\n",
    "#             cv2.imshow('frame',frame)\n",
    "            frame_counter += 1\n",
    "        if (frame_counter == BUFFER_SIZE): break\n",
    "    video_count += 1\n",
    "#     tmp = input(\"press enter to continue\")\n",
    "    cap.release()\n",
    "    cv2.destroyAllWindows()\n",
    "    tmp = input(\"press Enter\")\n",
    "video_count = 0\n",
    "\n",
    "    \n",
    "    "
   ]
  },
  {
   "cell_type": "markdown",
   "metadata": {},
   "source": [
    "<h1>ANALYZE VIDEOS + PREPROCESSING</h1>"
   ]
  },
  {
   "cell_type": "code",
   "execution_count": 33,
   "metadata": {},
   "outputs": [
    {
     "name": "stdout",
     "output_type": "stream",
     "text": [
      "then\n",
      "video addition/88.avi..."
     ]
    }
   ],
   "source": [
    "import os\n",
    "import sys\n",
    "\n",
    "directory = input('enter folder name: ')\n",
    "vids = os.listdir(directory)\n",
    "x = 71\n",
    "tmp = np.arange(x,len(vids) - 1 + x)\n",
    "videos = [name + '.avi' for name in (tmp.astype(str)).tolist()]\n",
    "videos = [directory + \"/\" + name for name in videos]\n",
    "video_count = 0\n",
    "AMOUNT_OF_VIDEOS = len(videos) - 1\n",
    "\n",
    "h = np.ndarray((AMOUNT_OF_VIDEOS, 2))\n",
    "s = np.ndarray((AMOUNT_OF_VIDEOS, 2))\n",
    "v= np.ndarray((AMOUNT_OF_VIDEOS, 2))\n",
    "opticFlow = np.ndarray((AMOUNT_OF_VIDEOS,4))\n",
    "opticflow_buffer = []\n",
    "opticflow_results = []\n",
    "\n",
    "print(\"then\")\n",
    "while(video_count < len(videos)-1):\n",
    "# while(True):\n",
    "#     print(\"video \" + str(video_count) + \"...\")\n",
    "    sys.stdout.write(\"\\r\" + \"video \" + str(videos[video_count]) + \"...\")\n",
    "    sys.stdout.flush()\n",
    "    cap = cv2.VideoCapture(videos[video_count])\n",
    "    for i in range (BUFFER_SIZE):\n",
    "        ret, frame = cap.read()\n",
    "        hsv = cv2.cvtColor(frame,cv2.COLOR_BGR2HSV)  \n",
    "        gray = cv2.cvtColor(frame, cv2.COLOR_BGR2GRAY)\n",
    "        opticflow_buffer.append(cv2.resize(gray, (0,0), fx=0.5, fy=0.5))\n",
    "        if(len(opticflow_buffer) == 2):\n",
    "            opticflow_results.append(calculate_opticflow_of_pair(opticflow_buffer[0], opticflow_buffer[1]))\n",
    "            del opticflow_buffer[0]\n",
    "        frame_sq.append(normalize_frame(hsv))\n",
    "        frame_sq_gray.append(normalize_frame(gray))\n",
    "#     print(\"length: \",len(frame_sq))################   \n",
    "#     print(frame_sq[0].shape)################\n",
    "#     print(frame_sq[0][1,2])\n",
    "    h[video_count,:] = calculate_n_of_hsv(frame_sq,0)\n",
    "    s[video_count,:] = calculate_n_of_hsv(frame_sq,1)\n",
    "    v[video_count,:] = calculate_n_of_hsv(frame_sq,2)\n",
    "    opticFlow[video_count,:] = calculate_opticflow_final(opticflow_results)\n",
    "    cap.release()\n",
    "    cv2.destroyAllWindows()\n",
    "#     opticFlow[video_count,:] = calculate_opticFlow(frame_sq_gray)\n",
    "#     print()\n",
    "#     print(\"h: \",h[0,:])\n",
    "#     print(\"s: \",s[0,:])\n",
    "#     print(\"v: \",v[0,:])\n",
    "#     print(\"of: \",opticFlow[0,:])\n",
    "    frame_sq = []\n",
    "    frame_sq_gray = []\n",
    "    opticflow_buffer = []\n",
    "    opticflow_results = []\n",
    "    video_count += 1\n",
    "#     (h[buffer_counter,:], h_histo) = calculate_n_of_hsv(frame_sq, 0)\n",
    "#     (s[buffer_counter,:], s_histo) = calculate_n_of_hsv(frame_sq, 1)\n",
    "#     (v[buffer_counter,:], v_histo) = calculate_n_of_hsv(frame_sq, 2)\n",
    "\n",
    "datasetUnnormalized = createDataset([h,s,v,opticFlow])\n",
    "# datasetNormalized = normalize(datasetUnnormalized)\n",
    "# createTSV(datasetUnnormalized)\n",
    "# createCSV(datasetUnnormalized)\n",
    "# dataset_no = \"normalizedtest\"\n",
    "# createTSV(datasetNormalized)\n",
    "# createCSV(datasetNormalized)\n",
    "\n",
    "cv2.destroyAllWindows()"
   ]
  },
  {
   "cell_type": "code",
   "execution_count": 36,
   "metadata": {},
   "outputs": [
    {
     "name": "stdout",
     "output_type": "stream",
     "text": [
      "(18, 10)\n",
      "['addition/71.avi', 'addition/72.avi', 'addition/73.avi', 'addition/74.avi', 'addition/75.avi', 'addition/76.avi', 'addition/77.avi', 'addition/78.avi', 'addition/79.avi', 'addition/80.avi', 'addition/81.avi', 'addition/82.avi', 'addition/83.avi', 'addition/84.avi', 'addition/85.avi', 'addition/86.avi', 'addition/87.avi', 'addition/88.avi', 'addition/89.avi']\n"
     ]
    }
   ],
   "source": [
    "datasetUnnormalized = createDataset([h,s,v,opticFlow])\n",
    "print(datasetUnnormalized.shape)\n",
    "print(videos)"
   ]
  },
  {
   "cell_type": "code",
   "execution_count": 37,
   "metadata": {},
   "outputs": [],
   "source": [
    "# (normalized,nans) = normalize(datasetUnnormalized)\n",
    "(normalized) = normalize(datasetUnnormalized)"
   ]
  },
  {
   "cell_type": "code",
   "execution_count": 38,
   "metadata": {},
   "outputs": [],
   "source": [
    "# print(normalized)\n",
    "# print(nans)\n",
    "# print(normalize(datasetUnnormalized))\n",
    "createCSV(datasetUnnormalized,\"unnormre1\")\n",
    "createCSV(normalized,\"normre1\")\n",
    "createTSV(normalized,\"normre1\")"
   ]
  },
  {
   "cell_type": "code",
   "execution_count": 22,
   "metadata": {},
   "outputs": [
    {
     "data": {
      "text/plain": [
       "StandardScaler(copy=True, with_mean=True, with_std=True)"
      ]
     },
     "execution_count": 22,
     "metadata": {},
     "output_type": "execute_result"
    }
   ],
   "source": [
    "from sklearn.preprocessing import StandardScaler\n",
    "scaler = StandardScaler()\n",
    "scaler.fit(datasetUnnormalized)"
   ]
  },
  {
   "cell_type": "code",
   "execution_count": 30,
   "metadata": {},
   "outputs": [
    {
     "name": "stdout",
     "output_type": "stream",
     "text": [
      "[2.34587818e-01 1.17650179e+00 2.76209289e-01 1.95701144e+05\n",
      " 4.76514989e-01 6.75283781e+00 1.74247715e-05 3.90512085e-04\n",
      " 2.19686303e-03 1.01534326e-01]\n",
      "[[-4.01805330e-01 -1.00193358e+00 -4.81918523e-01  5.22244023e+04\n",
      "   6.36985515e-01 -1.02634940e+00  1.57668432e+00 -1.12283394e+00\n",
      "  -1.87308162e-01  1.19051603e-01]]\n"
     ]
    }
   ],
   "source": [
    "# print(normalize(datasetUnnormalized))\n",
    "# print(datasetUnnormalized)\n",
    "data = datasetUnnormalized[5,:]\n",
    "data[3] = 1.95701144e+05\n",
    "print(data)\n",
    "data = data.reshape(1,-1)\n",
    "print(scaler.transform(data))"
   ]
  },
  {
   "cell_type": "code",
   "execution_count": null,
   "metadata": {},
   "outputs": [],
   "source": []
  },
  {
   "cell_type": "code",
   "execution_count": null,
   "metadata": {},
   "outputs": [],
   "source": [
    "a = scaler.transform(datasetUnnormalized)\n",
    "a"
   ]
  },
  {
   "cell_type": "markdown",
   "metadata": {},
   "source": [
    "<h1>DATASET APPEND</h1>"
   ]
  },
  {
   "cell_type": "code",
   "execution_count": 1,
   "metadata": {},
   "outputs": [],
   "source": [
    "import numpy as np\n",
    "from numpy import genfromtxt\n",
    "def appendDatasets():\n",
    "    dataset = []\n",
    "    dataset_counter = 0\n",
    "    pathName = input(\"Path name: \")\n",
    "    while(True):\n",
    "        fileName = input(\"File name: \")\n",
    "        if(fileName == \"\"):\n",
    "            break\n",
    "        next_dataset = (genfromtxt(pathName + fileName, delimiter=','))[1:,:]\n",
    "        if(dataset_counter == 0):\n",
    "            dataset = next_dataset\n",
    "            dataset_counter += 1\n",
    "        else:\n",
    "            dataset = np.append(dataset, next_dataset, axis = 0)\n",
    "    return dataset\n",
    "def appendLabels():\n",
    "    labels = []\n",
    "    pathName = input(\"Path name: \")\n",
    "    while(True):\n",
    "        fileName = input(\"File name: \")\n",
    "        if(fileName == \"\"):\n",
    "            break\n",
    "        with open(pathName + fileName) as f:\n",
    "            lines = f.readlines()\n",
    "        for line in lines:\n",
    "            labels.append(line[:-1])\n",
    "    return labels\n",
    "def saveLabels(label):\n",
    "#     pathName = input(\"Path name: \")\n",
    "    fileName = input(\"File name: \")\n",
    "    import pickle\n",
    "    pickle.dump(label,open(fileName + \".p\", \"wb\"))\n",
    "def makeTSVLabels(labels):\n",
    "    fileName = input(\"File name: \")\n",
    "    file = open(fileName + \".tsv\", \"w\")\n",
    "    for i in range(len(labels)):\n",
    "        file.write(labels[i] + \"\\n\")\n",
    "    return\n"
   ]
  },
  {
   "cell_type": "code",
   "execution_count": 6,
   "metadata": {},
   "outputs": [],
   "source": [
    "dts = appendDatasets()\n",
    "# createCSV(dts,\"normres\")"
   ]
  },
  {
   "cell_type": "code",
   "execution_count": 12,
   "metadata": {},
   "outputs": [],
   "source": [
    "createTSV(dts,\"unnormres\")"
   ]
  },
  {
   "cell_type": "code",
   "execution_count": 13,
   "metadata": {},
   "outputs": [],
   "source": [
    "createCSV(dts,\"unnormres\")"
   ]
  },
  {
   "cell_type": "code",
   "execution_count": 16,
   "metadata": {},
   "outputs": [
    {
     "name": "stdout",
     "output_type": "stream",
     "text": [
      "minn:  [1.68698948e-01 5.71359754e-01 7.26006841e-02 1.91583500e-01\n",
      " 2.30490743e-01 1.69076206e+00 1.60691440e-06 3.60041682e-04\n",
      " 7.00276490e-04 5.24942415e-02]\n",
      "rangee:  [1.88006912e-01 2.37081875e+00 5.25229358e-01 1.84091510e+01\n",
      " 3.98871483e-01 1.38006918e+01 9.30031806e-05 1.20997849e-03\n",
      " 4.86319761e-03 7.18616676e-02]\n"
     ]
    }
   ],
   "source": [
    "normdts = normalize(dts)"
   ]
  },
  {
   "cell_type": "code",
   "execution_count": 17,
   "metadata": {},
   "outputs": [],
   "source": [
    "createCSV(normdts,\"normFrankensteinFullForm\")"
   ]
  },
  {
   "cell_type": "code",
   "execution_count": 21,
   "metadata": {},
   "outputs": [],
   "source": [
    "createTSV(dts,\"FrankensteinFullForm\")"
   ]
  },
  {
   "cell_type": "code",
   "execution_count": 11,
   "metadata": {},
   "outputs": [
    {
     "name": "stdout",
     "output_type": "stream",
     "text": [
      "['static', 'static', 'static', 'static', 'static', 'static', 'static', 'static', 'static', 'static', 'static', 'static', 'static', 'static', 'static', 'static', 'static', 'static', 'static', 'rot', 'rot', 'rot', 'rot', 'rot', 'rot', 'rot', 'rot', 'static', 'static', 'rot', 'rot', 'frot', 'frot', 'frot', 'light', 'light', 'light', 'light', 'light', 'light', 'light', 'unknown', 'light', 'unknown', 'dynamiclight', 'dynamiclight', 'dynamiclight', 'move', 'move', 'move', 'move', 'move', 'move', 'move', 'move', 'move', 'move', 'move', 'dynamiclight', 'dynamiclight', 'dynamiclight', 'dynamiclight', 'frot', 'frot', 'frot', 'frot', 'frot', 'static', 'frot', 'move', 'move', 'move', 'move', 'move', 'move', 'move', 'move', 'move', 'move', 'move', 'move', 'move', 'light', 'light', 'light', 'light', 'unknown', 'light', 'light', 'light', 'light', 'light', 'light', 'light', 'light', 'light', 'unknown', 'light', 'light', 'dynamiclight', 'dynamiclight', 'dynamiclight', 'dynamiclight', 'dynamiclight', 'dynamiclight', 'dynamiclight', 'dynamiclight', 'dynamiclight', 'dynamiclight', 'dynamiclight', 'dynamiclight', 'dynamiclight', 'dynamiclight', 'dynamiclight', 'unknown', 'rot', 'rot', 'rot', 'rot', 'rot', 'rot', 'rot', 'rot', 'rot', 'rot', 'rot', 'frot', 'frot', 'frot', 'frot', 'frot', 'frot', 'frot', 'frot', 'frot', 'frot', 'frot', 'frot', '']\n"
     ]
    }
   ],
   "source": [
    "labels = appendLabels()\n",
    "print(labels)\n",
    "saveLabels(labels)"
   ]
  },
  {
   "cell_type": "code",
   "execution_count": 12,
   "metadata": {},
   "outputs": [
    {
     "ename": "NameError",
     "evalue": "name 'dts' is not defined",
     "output_type": "error",
     "traceback": [
      "\u001b[0;31m---------------------------------------------------------------------------\u001b[0m",
      "\u001b[0;31mNameError\u001b[0m                                 Traceback (most recent call last)",
      "\u001b[0;32m<ipython-input-12-afc745adbeaf>\u001b[0m in \u001b[0;36m<module>\u001b[0;34m()\u001b[0m\n\u001b[0;32m----> 1\u001b[0;31m \u001b[0mdts\u001b[0m\u001b[0;34m\u001b[0m\u001b[0m\n\u001b[0m",
      "\u001b[0;31mNameError\u001b[0m: name 'dts' is not defined"
     ]
    }
   ],
   "source": []
  }
 ],
 "metadata": {
  "colab": {
   "collapsed_sections": [],
   "default_view": {},
   "name": "ASD Vision measure.ipynb",
   "provenance": [],
   "toc_visible": true,
   "version": "0.3.2",
   "views": {}
  },
  "kernelspec": {
   "display_name": "Python 3",
   "language": "python",
   "name": "python3"
  },
  "language_info": {
   "codemirror_mode": {
    "name": "ipython",
    "version": 3
   },
   "file_extension": ".py",
   "mimetype": "text/x-python",
   "name": "python",
   "nbconvert_exporter": "python",
   "pygments_lexer": "ipython3",
   "version": "3.6.5"
  }
 },
 "nbformat": 4,
 "nbformat_minor": 2
}
