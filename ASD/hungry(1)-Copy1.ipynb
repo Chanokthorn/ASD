{
 "cells": [
  {
   "cell_type": "code",
   "execution_count": 1,
   "metadata": {
    "colab": {
     "autoexec": {
      "startup": false,
      "wait_interval": 0
     }
    },
    "colab_type": "code",
    "id": "Kv2It0UYTBq7"
   },
   "outputs": [],
   "source": [
    "import cv2\n",
    "import matplotlib.pyplot as plt\n",
    "import os\n",
    "import numpy as np\n",
    "\n",
    "# TIME_FRAMES = 50\n",
    "BUFFER_SIZE = 100\n",
    "# AMOUNT_OF_FRAMES = TIME_FRAMES - BUFFER_SIZE + 1\n",
    "# AMOUNT_OF_VIDEOS = int(input(\"amount of videos: \"))\n",
    "\n",
    "WIDTH = 1280\n",
    "HEIGHT = 720\n",
    "\n",
    "frame_sq = []\n",
    "frame_sq_gray = []\n",
    "frame_sq_edges = []\n",
    "\n",
    "# dataset_no = input(\"starting number: \")\n",
    "video_count = 0\n",
    "                    \n",
    "\n",
    "\n",
    "\n",
    "# rgb = np.ndarray((TIME_FRAMES - (TIME_FRAMES % BUFFER_SIZE), 3))\n",
    "\n"
   ]
  },
  {
   "cell_type": "code",
   "execution_count": 2,
   "metadata": {
    "colab": {
     "autoexec": {
      "startup": false,
      "wait_interval": 0
     }
    },
    "colab_type": "code",
    "collapsed": true,
    "id": "UMWqnsH9TBrC"
   },
   "outputs": [],
   "source": [
    "def calculate_n_of_hsv(frame_sq,n):\n",
    "    sum_n = 0\n",
    "    var_n = 0\n",
    "    for frame in frame_sq:\n",
    "        var_n += np.var(frame[:,:,n])# / (np.mean(frame[:,:,n]) * 1\n",
    "        sum_n += np.sum(frame[:,:,n])\n",
    "\n",
    "    avg_n = sum_n/ (len(frame_sq) * frame_sq[0].shape[0] * frame_sq[0].shape[1])\n",
    "    return np.array([avg_n ,var_n])\n",
    "def calculate_comp(frame_sq):\n",
    "    sum_comp = 0\n",
    "    for i in range(len(frame_sq)):\n",
    "        if(i != 0):\n",
    "            sum_comp += compare_img(frame_sq[i], frame_sq[i-1])\n",
    "#         if(i == 1): print(compare_img(frame_sq[i], frame_sq[i-1]))\n",
    "    sum_comp /= (len(frame_sq) - 1)\n",
    "    return sum_comp\n",
    "def calculate_opticFlow(frame_sq):\n",
    "    prvs = cv2.resize(frame_sq[0],(0,0),fx=0.5,fy=0.5)\n",
    "    mag_sum = 0\n",
    "    ang_sum = 0\n",
    "    var_mag = 0\n",
    "    var_ang = 0\n",
    "    for i in range(1,len(frame_sq)):\n",
    "        frame2 = frame_sq[i]\n",
    "        next = cv2.resize(frame2, (0,0), fx=0.5, fy=0.5) \n",
    "        flow = cv2.calcOpticalFlowFarneback(prvs,next, None, 0.5, 3, 15, 3, 5, 1.2, 0)\n",
    "        mag, ang = cv2.cartToPolar(flow[...,0], flow[...,1])\n",
    "        mag = cv2.normalize(mag,None,0,1,cv2.NORM_MINMAX)\n",
    "        ang = np.absolute(cv2.normalize(ang,None,-1,1,cv2.NORM_MINMAX))\n",
    "        mag_sum = np.sum(mag)\n",
    "        ang_sum = np.sum(ang)\n",
    "        var_mag += np.var(mag)\n",
    "        var_ang += np.var(ang)\n",
    "    mag_sum /= (BUFFER_SIZE * WIDTH * HEIGHT)\n",
    "    ang_sum /= (BUFFER_SIZE * WIDTH * HEIGHT)\n",
    "    var_mag /= BUFFER_SIZE\n",
    "    var_ang /= BUFFER_SIZE\n",
    "    return np.array([mag_sum, ang_sum, var_mag, var_ang])"
   ]
  },
  {
   "cell_type": "code",
   "execution_count": 3,
   "metadata": {
    "collapsed": true
   },
   "outputs": [],
   "source": [
    "def compare_img(img1,img2):\n",
    "    img1 = normalize_gray(img1)\n",
    "    img2 = normalize_gray(img2)\n",
    "    diff = img1 - img2\n",
    "    m_norm = np.sum(abs(diff))\n",
    "#     return m_norm\n",
    "    return 0\n",
    "def normalize_frame(frame):\n",
    "    return frame/255\n",
    "\n",
    "def normalize_gray(frame):\n",
    "    rng = np.max(frame) - np.min(frame)\n",
    "    amin = np.min(frame)\n",
    "    return (frame-amin)/rng #range from [0,1]\n",
    "def createDataset(data):\n",
    "    dataset = data[0].copy()\n",
    "    data.remove(data[0])\n",
    "    for datum in data:\n",
    "        dataset = np.append(dataset, datum, axis = 1)\n",
    "    return dataset\n",
    "def createTSV(dataset,filename):\n",
    "    dataset = (dataset.copy()).astype(str)\n",
    "#     datasetName = \"dataset\" + str(dataset_no) + \".tsv\"\n",
    "    datasetName = filename + \".tsv\"\n",
    "    file = open(datasetName, \"w\")\n",
    "#     file.write(\"h\\ts\\tv\\tframe_edges_comp\\tframe_comp\\n\")\n",
    "    for i in range(dataset.shape[0]):\n",
    "        file.write(\"\\t\".join(dataset[i,:].tolist()))\n",
    "        file.write(\"\\n\")\n",
    "#         if(i + 1 != dataset.shape[0]):\n",
    "#             file.write(\"\\n\")\n",
    "    file.close()\n",
    "    return\n",
    "def createTSVLabel(dataset,filename):\n",
    "    dataset = (dataset.copy()).astype(str)\n",
    "#     datasetName = \"label\" + str(dataset_no) + \".tsv\"\n",
    "    datasetName = filename\n",
    "    file = open(datasetName, \"w\")\n",
    "    file.write(\"havg\\thv\\tsavg\\tsv\\tvavg\\tvv\\tmagavg\\tmagv\\tangavg\\tangv\\n\")\n",
    "    for i in range(dataset.shape[0]):\n",
    "        file.write(\"\\t\".join(dataset[i,:].tolist()))\n",
    "        file.write(\"\\n\")\n",
    "#         if(i + 1 != dataset.shape[0]):\n",
    "#             file.write(\"\\n\")\n",
    "    file.close()\n",
    "    return\n"
   ]
  },
  {
   "cell_type": "markdown",
   "metadata": {},
   "source": [
    "<h1>Normalization</h1>"
   ]
  },
  {
   "cell_type": "code",
   "execution_count": 4,
   "metadata": {},
   "outputs": [],
   "source": [
    "def normalize(dataset):\n",
    "    dataset = np.copy(dataset)\n",
    "    datasetNan = np.isnan(dataset).any(axis=1)\n",
    "    nans = []\n",
    "    for i in range(datasetNan.shape[0]):\n",
    "        if(datasetNan[i] == True):\n",
    "            nans.append(i)\n",
    "    dataset = dataset[~np.isnan(dataset).any(axis=1)]\n",
    "    max_values = np.max(dataset,axis=0)\n",
    "    min_values = np.min(dataset,axis=0)\n",
    "    ranges = max_values - min_values\n",
    "    dataset /= ranges\n",
    "    return (dataset,nans)\n",
    "    "
   ]
  },
  {
   "cell_type": "code",
   "execution_count": 5,
   "metadata": {
    "collapsed": true
   },
   "outputs": [],
   "source": [
    "# def createCSV(dataset):\n",
    "#     dataset = (dataset.copy()).astype(str)\n",
    "#     dataset_name = \"dataset\" + str(dataset_no) + \".csv\"\n",
    "#     csv = open(dataset_name, \"w\")\n",
    "#     columnTitleRow = \"havg,hv,savg,sv,vavg,vv,magavg,magv,angavg,angv\\n\"\n",
    "#     csv.write(columnTitleRow)\n",
    "#     for i in range(dataset.shape[0]):\n",
    "#         csv.write(\",\".join(dataset[i,:].tolist()))\n",
    "#         csv.write(\"\\n\")\n",
    "#     csv.close()\n",
    "def createCSV(dataset,filename):\n",
    "    dataset = (dataset.copy()).astype(str)\n",
    "#     dataset_name = \"dataset\" + str(dataset_no) + \".csv\"\n",
    "    dataset_name = filename + \".csv\"\n",
    "    csv = open(dataset_name, \"w\")\n",
    "    columnTitleRow = \"havg,hv,savg,sv,vavg,vv,magavg,magv,angavg,angv\\n\"\n",
    "    csv.write(columnTitleRow)\n",
    "    for i in range(dataset.shape[0]):\n",
    "        csv.write(\",\".join(dataset[i,:].tolist()))\n",
    "        csv.write(\"\\n\")\n",
    "    csv.close()"
   ]
  },
  {
   "cell_type": "markdown",
   "metadata": {},
   "source": [
    "<h1>STORE VIDEOS</h1>"
   ]
  },
  {
   "cell_type": "code",
   "execution_count": 8,
   "metadata": {},
   "outputs": [
    {
     "name": "stdout",
     "output_type": "stream",
     "text": [
      "recording video 111..."
     ]
    }
   ],
   "source": [
    "import os\n",
    "import cv2\n",
    "import sys\n",
    "\n",
    "directory_name = input(\"directory name: \")\n",
    "os.makedirs(directory_name)\n",
    "\n",
    "BUFFER_SIZE = 100\n",
    "# AMOUNT_OF_VIDEOS = 70\n",
    "RECORD_AMOUNT = 20\n",
    "video_count = 91\n",
    "\n",
    "for i in range(RECORD_AMOUNT + 1):\n",
    "#     print(\"recording video \" + str(video_count) + \"...\")\n",
    "    sys.stdout.write(\"\\r\" + \"recording video \" + str(video_count) + \"...\")\n",
    "    sys.stdout.flush()\n",
    "    cap = cv2.VideoCapture(0)\n",
    "    WIDTH = int(cap.get(3))\n",
    "    HEIGHT = int(cap.get(4))\n",
    "    video_name = directory_name + \"/\" + str(video_count) + \".avi\"\n",
    "    fourcc = cv2.VideoWriter_fourcc(*'XVID')\n",
    "    out = cv2.VideoWriter(directory_name + \"/\" + str(video_count) + '.avi',fourcc, 20.0, (640,480))\n",
    "    frame_counter = 0\n",
    "    while(True):\n",
    "        ret, frame = cap.read()\n",
    "        if (ret == True):\n",
    "            out.write(frame)\n",
    "#             cv2.imshow('frame',frame)\n",
    "            frame_counter += 1\n",
    "        if (frame_counter == BUFFER_SIZE): break\n",
    "    video_count += 1\n",
    "#     tmp = input(\"press enter to continue\")\n",
    "    cap.release()\n",
    "    cv2.destroyAllWindows()\n",
    "    tmp = input(\"press Enter\")\n",
    "video_count = 0\n",
    "\n",
    "    \n",
    "    "
   ]
  },
  {
   "cell_type": "markdown",
   "metadata": {},
   "source": [
    "<h1>ANALYZE VIDEOS + PREPROCESSING</h1>"
   ]
  },
  {
   "cell_type": "code",
   "execution_count": 19,
   "metadata": {},
   "outputs": [
    {
     "name": "stdout",
     "output_type": "stream",
     "text": [
      "then\n",
      "video addition3/102.avi..."
     ]
    }
   ],
   "source": [
    "import os\n",
    "import sys\n",
    "\n",
    "directory = input('enter folder name: ')\n",
    "vids = os.listdir(directory)\n",
    "tmp = np.arange(91,len(vids) - 1 + 91)\n",
    "videos = [name + '.avi' for name in (tmp.astype(str)).tolist()]\n",
    "videos = [directory + \"/\" + name for name in videos]\n",
    "video_count = 0\n",
    "AMOUNT_OF_VIDEOS = len(videos) - 1\n",
    "\n",
    "h = np.ndarray((AMOUNT_OF_VIDEOS, 2))\n",
    "s = np.ndarray((AMOUNT_OF_VIDEOS, 2))\n",
    "v= np.ndarray((AMOUNT_OF_VIDEOS, 2))\n",
    "opticFlow = np.ndarray((AMOUNT_OF_VIDEOS,4))\n",
    "\n",
    "print(\"then\")\n",
    "while(video_count < len(videos)-1):\n",
    "#     print(\"video \" + str(video_count) + \"...\")\n",
    "    sys.stdout.write(\"\\r\" + \"video \" + str(videos[video_count]) + \"...\")\n",
    "    sys.stdout.flush()\n",
    "    cap = cv2.VideoCapture(videos[video_count])\n",
    "    for i in range (BUFFER_SIZE):\n",
    "        ret, frame = cap.read()\n",
    "        hsv = cv2.cvtColor(frame,cv2.COLOR_BGR2HSV)  \n",
    "        gray = cv2.cvtColor(frame, cv2.COLOR_BGR2GRAY) \n",
    "        \n",
    "        frame_sq.append(normalize_frame(hsv))\n",
    "        frame_sq_gray.append(normalize_frame(gray))\n",
    "        \n",
    "    h[video_count,:] = calculate_n_of_hsv(frame_sq,0)\n",
    "    s[video_count,:] = calculate_n_of_hsv(frame_sq,1)\n",
    "    v[video_count,:] = calculate_n_of_hsv(frame_sq,2)\n",
    "    cap.release()\n",
    "    cv2.destroyAllWindows()\n",
    "    opticFlow[video_count,:] = calculate_opticFlow(frame_sq_gray)\n",
    "    frame_sq = []\n",
    "    frame_sq_gray = []\n",
    "    video_count += 1\n",
    "    #     (h[buffer_counter,:], h_histo) = calculate_n_of_hsv(frame_sq, 0)\n",
    "#     (s[buffer_counter,:], s_histo) = calculate_n_of_hsv(frame_sq, 1)\n",
    "#     (v[buffer_counter,:], v_histo) = calculate_n_of_hsv(frame_sq, 2)\n",
    "\n",
    "datasetUnnormalized = createDataset([h,s,v,opticFlow])\n",
    "# datasetNormalized = normalize(datasetUnnormalized)\n",
    "# createTSV(datasetUnnormalized)\n",
    "# createCSV(datasetUnnormalized)\n",
    "# dataset_no = \"normalizedtest\"\n",
    "# createTSV(datasetNormalized)\n",
    "# createCSV(datasetNormalized)\n",
    "\n",
    "cv2.destroyAllWindows()"
   ]
  },
  {
   "cell_type": "code",
   "execution_count": 7,
   "metadata": {},
   "outputs": [
    {
     "name": "stdout",
     "output_type": "stream",
     "text": [
      "['addition/0.avi', 'addition/1.avi', 'addition/2.avi', 'addition/3.avi', 'addition/4.avi', 'addition/5.avi', 'addition/6.avi', 'addition/7.avi', 'addition/8.avi', 'addition/9.avi', 'addition/10.avi', 'addition/11.avi', 'addition/12.avi', 'addition/13.avi', 'addition/14.avi', 'addition/15.avi', 'addition/16.avi', 'addition/17.avi', 'addition/18.avi']\n"
     ]
    }
   ],
   "source": [
    "# print (datasetUnnormalized)\n",
    "print(videos)"
   ]
  },
  {
   "cell_type": "code",
   "execution_count": 20,
   "metadata": {},
   "outputs": [],
   "source": [
    "(normalized,nans) = normalize(datasetUnnormalized)"
   ]
  },
  {
   "cell_type": "code",
   "execution_count": 21,
   "metadata": {},
   "outputs": [],
   "source": [
    "# print(normalized)\n",
    "# print(nans)\n",
    "# print(normalize(datasetUnnormalized))\n",
    "createCSV(datasetUnnormalized,\"unnormaddition3\")\n",
    "createCSV(normalized,\"normaddition3\")\n",
    "createTSV(normalized,\"normaddition3\")"
   ]
  },
  {
   "cell_type": "code",
   "execution_count": 52,
   "metadata": {},
   "outputs": [
    {
     "name": "stdout",
     "output_type": "stream",
     "text": [
      "[]\n"
     ]
    }
   ],
   "source": [
    "print(nans)"
   ]
  },
  {
   "cell_type": "markdown",
   "metadata": {},
   "source": [
    "<h1>DATASET APPEND</h1>"
   ]
  },
  {
   "cell_type": "code",
   "execution_count": 18,
   "metadata": {},
   "outputs": [],
   "source": [
    "from numpy import genfromtxt\n",
    "def appendDatasets():\n",
    "    dataset = []\n",
    "    dataset_counter = 0\n",
    "    pathName = input(\"Path name: \")\n",
    "    while(True):\n",
    "        fileName = input(\"File name: \")\n",
    "        if(fileName == \"\"):\n",
    "            break\n",
    "        next_dataset = (genfromtxt(pathName + fileName, delimiter=','))[1:,:]\n",
    "        if(dataset_counter == 0):\n",
    "            dataset = next_dataset\n",
    "            dataset_counter += 1\n",
    "        else:\n",
    "            dataset = np.append(dataset, next_dataset, axis = 0)\n",
    "    return dataset\n",
    "def appendLabels():\n",
    "    labels = []\n",
    "    pathName = input(\"Path name: \")\n",
    "    while(True):\n",
    "        fileName = input(\"File name: \")\n",
    "        if(fileName == \"\"):\n",
    "            break\n",
    "        with open(pathName + fileName) as f:\n",
    "            lines = f.readlines()\n",
    "        for line in lines:\n",
    "            labels.append(line[:-1])\n",
    "    return labels\n",
    "def saveLabels(label):\n",
    "#     pathName = input(\"Path name: \")\n",
    "    fileName = input(\"File name: \")\n",
    "    import pickle\n",
    "    pickle.dump(label,open(fileName + \".p\", \"wb\"))\n",
    "def makeTSVLabels(labels):\n",
    "    fileName = input(\"File name: \")\n",
    "    file = open(fileName + \".tsv\", \"w\")\n",
    "    for i in range(len(labels)):\n",
    "        file.write(labels[i] + \"\\n\")\n",
    "    return\n"
   ]
  },
  {
   "cell_type": "code",
   "execution_count": 20,
   "metadata": {},
   "outputs": [],
   "source": [
    "dts = appendDatasets()\n",
    "createCSV(dts,\"FrankensteinFullForm\")"
   ]
  },
  {
   "cell_type": "code",
   "execution_count": 21,
   "metadata": {},
   "outputs": [],
   "source": [
    "createTSV(dts,\"FrankensteinFullForm\")"
   ]
  },
  {
   "cell_type": "code",
   "execution_count": 11,
   "metadata": {},
   "outputs": [
    {
     "name": "stdout",
     "output_type": "stream",
     "text": [
      "['static', 'static', 'static', 'static', 'static', 'static', 'static', 'static', 'static', 'static', 'static', 'static', 'static', 'static', 'static', 'static', 'static', 'static', 'static', 'rot', 'rot', 'rot', 'rot', 'rot', 'rot', 'rot', 'rot', 'static', 'static', 'rot', 'rot', 'frot', 'frot', 'frot', 'light', 'light', 'light', 'light', 'light', 'light', 'light', 'unknown', 'light', 'unknown', 'dynamiclight', 'dynamiclight', 'dynamiclight', 'move', 'move', 'move', 'move', 'move', 'move', 'move', 'move', 'move', 'move', 'move', 'dynamiclight', 'dynamiclight', 'dynamiclight', 'dynamiclight', 'frot', 'frot', 'frot', 'frot', 'frot', 'static', 'frot', 'move', 'move', 'move', 'move', 'move', 'move', 'move', 'move', 'move', 'move', 'move', 'move', 'move', 'light', 'light', 'light', 'light', 'unknown', 'light', 'light', 'light', 'light', 'light', 'light', 'light', 'light', 'light', 'unknown', 'light', 'light', 'dynamiclight', 'dynamiclight', 'dynamiclight', 'dynamiclight', 'dynamiclight', 'dynamiclight', 'dynamiclight', 'dynamiclight', 'dynamiclight', 'dynamiclight', 'dynamiclight', 'dynamiclight', 'dynamiclight', 'dynamiclight', 'dynamiclight', 'unknown', 'rot', 'rot', 'rot', 'rot', 'rot', 'rot', 'rot', 'rot', 'rot', 'rot', 'rot', 'frot', 'frot', 'frot', 'frot', 'frot', 'frot', 'frot', 'frot', 'frot', 'frot', 'frot', 'frot', '']\n"
     ]
    }
   ],
   "source": [
    "labels = appendLabels()\n",
    "print(labels)\n",
    "saveLabels(labels)"
   ]
  },
  {
   "cell_type": "code",
   "execution_count": 14,
   "metadata": {},
   "outputs": [],
   "source": [
    "makeTSVLabels(labels)"
   ]
  }
 ],
 "metadata": {
  "colab": {
   "collapsed_sections": [],
   "default_view": {},
   "name": "ASD Vision measure.ipynb",
   "provenance": [],
   "toc_visible": true,
   "version": "0.3.2",
   "views": {}
  },
  "kernelspec": {
   "display_name": "Python 3",
   "language": "python",
   "name": "python3"
  },
  "language_info": {
   "codemirror_mode": {
    "name": "ipython",
    "version": 3
   },
   "file_extension": ".py",
   "mimetype": "text/x-python",
   "name": "python",
   "nbconvert_exporter": "python",
   "pygments_lexer": "ipython3",
   "version": "3.6.5"
  }
 },
 "nbformat": 4,
 "nbformat_minor": 2
}
