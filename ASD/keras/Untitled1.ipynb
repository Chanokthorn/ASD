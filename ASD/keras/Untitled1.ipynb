{
 "cells": [
  {
   "cell_type": "markdown",
   "metadata": {},
   "source": [
    "<h1>Load Required Functions</h1>"
   ]
  },
  {
   "cell_type": "code",
   "execution_count": 5,
   "metadata": {
    "colab": {
     "autoexec": {
      "startup": false,
      "wait_interval": 0
     }
    },
    "colab_type": "code",
    "id": "Kv2It0UYTBq7"
   },
   "outputs": [],
   "source": [
    "import cv2\n",
    "import matplotlib.pyplot as plt\n",
    "import os\n",
    "import numpy as np\n",
    "\n",
    "BUFFER_SIZE = 100\n",
    "WIDTH = 1280\n",
    "HEIGHT = 720\n",
    "video_count = 0"
   ]
  },
  {
   "cell_type": "code",
   "execution_count": 6,
   "metadata": {
    "colab": {
     "autoexec": {
      "startup": false,
      "wait_interval": 0
     }
    },
    "colab_type": "code",
    "collapsed": true,
    "id": "UMWqnsH9TBrC"
   },
   "outputs": [],
   "source": [
    "def calculate_n_of_hsv(frame_sq,n):\n",
    "    sum_n = 0\n",
    "    var_n = 0\n",
    "    for frame in frame_sq:\n",
    "        var_n += np.var(frame[:,:,n])# / (np.mean(frame[:,:,n]) * 1\n",
    "        sum_n += np.sum(frame[:,:,n])\n",
    "\n",
    "    avg_n = sum_n/ (len(frame_sq) * frame_sq[0].shape[0] * frame_sq[0].shape[1])\n",
    "    return np.array([avg_n ,var_n])\n",
    "def calculate_comp(frame_sq):\n",
    "    sum_comp = 0\n",
    "    for i in range(len(frame_sq)):\n",
    "        if(i != 0):\n",
    "            sum_comp += compare_img(frame_sq[i], frame_sq[i-1])\n",
    "#         if(i == 1): print(compare_img(frame_sq[i], frame_sq[i-1]))\n",
    "    sum_comp /= (len(frame_sq) - 1)\n",
    "    return sum_comp\n",
    "def calculate_opticFlow(frame_sq):\n",
    "    prvs = cv2.resize(frame_sq[0],(0,0),fx=0.5,fy=0.5)\n",
    "    mag_sum = 0\n",
    "    ang_sum = 0\n",
    "    var_mag = 0\n",
    "    var_ang = 0\n",
    "    for i in range(1,len(frame_sq)):\n",
    "        frame2 = frame_sq[i]\n",
    "        next = cv2.resize(frame2, (0,0), fx=0.5, fy=0.5) \n",
    "        flow = cv2.calcOpticalFlowFarneback(prvs,next, None, 0.5, 3, 15, 3, 5, 1.2, 0)\n",
    "        mag, ang = cv2.cartToPolar(flow[...,0], flow[...,1])\n",
    "        mag = cv2.normalize(mag,None,0,1,cv2.NORM_MINMAX)\n",
    "        ang = np.absolute(cv2.normalize(ang,None,-1,1,cv2.NORM_MINMAX))\n",
    "        mag_sum = np.sum(mag)\n",
    "        ang_sum = np.sum(ang)\n",
    "        var_mag += np.var(mag)\n",
    "        var_ang += np.var(ang)\n",
    "    mag_sum /= (BUFFER_SIZE * WIDTH * HEIGHT)\n",
    "    ang_sum /= (BUFFER_SIZE * WIDTH * HEIGHT)\n",
    "    var_mag /= BUFFER_SIZE\n",
    "    var_ang /= BUFFER_SIZE\n",
    "    return np.array([mag_sum, ang_sum, var_mag, var_ang])"
   ]
  },
  {
   "cell_type": "code",
   "execution_count": 7,
   "metadata": {
    "collapsed": true
   },
   "outputs": [],
   "source": [
    "def compare_img(img1,img2):\n",
    "    img1 = normalize_gray(img1)\n",
    "    img2 = normalize_gray(img2)\n",
    "    diff = img1 - img2\n",
    "    m_norm = np.sum(abs(diff))\n",
    "#     return m_norm\n",
    "    return 0\n",
    "def normalize_frame(frame):\n",
    "    return frame/255\n",
    "\n",
    "def normalize_gray(frame):\n",
    "    rng = np.max(frame) - np.min(frame)\n",
    "    amin = np.min(frame)\n",
    "    return (frame-amin)/rng #range from [0,1]\n",
    "def createDataset(data):\n",
    "    dataset = data[0].copy()\n",
    "    data.remove(data[0])\n",
    "    for datum in data:\n",
    "        dataset = np.append(dataset, datum, axis = 1)\n",
    "    return dataset\n",
    "def createTSV(dataset,filename):\n",
    "    dataset = (dataset.copy()).astype(str)\n",
    "#     datasetName = \"dataset\" + str(dataset_no) + \".tsv\"\n",
    "    datasetName = filename + \".tsv\"\n",
    "    file = open(datasetName, \"w\")\n",
    "#     file.write(\"h\\ts\\tv\\tframe_edges_comp\\tframe_comp\\n\")\n",
    "    for i in range(dataset.shape[0]):\n",
    "        file.write(\"\\t\".join(dataset[i,:].tolist()))\n",
    "        file.write(\"\\n\")\n",
    "#         if(i + 1 != dataset.shape[0]):\n",
    "#             file.write(\"\\n\")\n",
    "    file.close()\n",
    "    return\n",
    "def createTSVLabel(dataset,filename):\n",
    "    dataset = (dataset.copy()).astype(str)\n",
    "#     datasetName = \"label\" + str(dataset_no) + \".tsv\"\n",
    "    datasetName = filename\n",
    "    file = open(datasetName, \"w\")\n",
    "    file.write(\"havg\\thv\\tsavg\\tsv\\tvavg\\tvv\\tmagavg\\tmagv\\tangavg\\tangv\\n\")\n",
    "    for i in range(dataset.shape[0]):\n",
    "        file.write(\"\\t\".join(dataset[i,:].tolist()))\n",
    "        file.write(\"\\n\")\n",
    "#         if(i + 1 != dataset.shape[0]):\n",
    "#             file.write(\"\\n\")\n",
    "    file.close()\n",
    "    return\n"
   ]
  },
  {
   "cell_type": "code",
   "execution_count": 9,
   "metadata": {},
   "outputs": [
    {
     "name": "stdout",
     "output_type": "stream",
     "text": [
      "StandardScaler(copy=True, with_mean=True, with_std=True)\n"
     ]
    }
   ],
   "source": [
    "from sklearn.preprocessing import StandardScaler\n",
    "from numpy import genfromtxt\n",
    "\n",
    "dataset = (genfromtxt(\"../normFrankensteinFullForm.csv\", delimiter=','))[1:,:]\n",
    "scaler = StandardScaler(copy=True)\n",
    "print(scaler.fit(dataset))\n",
    "\n",
    "def normalize(frame):\n",
    "    frame = scaler.transform(frame)\n",
    "    return frame\n",
    "#     datasetNan = np.isnan(dataset).any(axis=1)\n",
    "#     nans = []\n",
    "#     for i in range(datasetNan.shape[0]):\n",
    "#         if(datasetNan[i] == True):\n",
    "#             nans.append(i)\n",
    "#     dataset = dataset[~np.isnan(dataset).any(axis=1)]\n",
    "#     max_values = np.max(dataset,axis=0)\n",
    "#     min_values = np.min(dataset,axis=0)\n",
    "#     ranges = max_values - min_values\n",
    "#     dataset /= ranges\n",
    "    return (dataset,nans)\n",
    "    "
   ]
  },
  {
   "cell_type": "markdown",
   "metadata": {},
   "source": [
    "<h1>Load Model</h1>"
   ]
  },
  {
   "cell_type": "code",
   "execution_count": 10,
   "metadata": {},
   "outputs": [
    {
     "name": "stderr",
     "output_type": "stream",
     "text": [
      "C:\\Users\\Bone\\Anaconda3\\lib\\site-packages\\h5py\\__init__.py:36: FutureWarning: Conversion of the second argument of issubdtype from `float` to `np.floating` is deprecated. In future, it will be treated as `np.float64 == np.dtype(float).type`.\n",
      "  from ._conv import register_converters as _register_converters\n",
      "Using TensorFlow backend.\n"
     ]
    },
    {
     "name": "stdout",
     "output_type": "stream",
     "text": [
      "Loaded model from disk\n"
     ]
    }
   ],
   "source": [
    "from keras.models import model_from_yaml\n",
    "# load YAML and create model\n",
    "yaml_file = open('model4.yaml', 'r')\n",
    "loaded_model_yaml = yaml_file.read()\n",
    "yaml_file.close()\n",
    "model = model_from_yaml(loaded_model_yaml)\n",
    "# load weights into new model\n",
    "model.load_weights(\"model4.h5\")\n",
    "print(\"Loaded model from disk\")\n"
   ]
  },
  {
   "cell_type": "code",
   "execution_count": 11,
   "metadata": {},
   "outputs": [],
   "source": [
    "from numpy import genfromtxt\n",
    "dataset = (genfromtxt(\"./FrankensteinFullForm.csv\", delimiter=','))[1:,:]"
   ]
  },
  {
   "cell_type": "code",
   "execution_count": 12,
   "metadata": {},
   "outputs": [
    {
     "data": {
      "text/plain": [
       "3.168698948"
      ]
     },
     "execution_count": 12,
     "metadata": {},
     "output_type": "execute_result"
    }
   ],
   "source": [
    "1.68698948e-01 + 3"
   ]
  },
  {
   "cell_type": "code",
   "execution_count": 13,
   "metadata": {},
   "outputs": [],
   "source": [
    "_min = [1.68698948e-01,5.71359754e-01,7.26006841e-02,1.91583500e-01,2.30490743e-01,1.69076206e+00,1.60691440e-06,3.60041682e-04,7.00276490e-04,5.24942415e-02]\n",
    "_range = [1.88006912e-01, 2.37081875e+00, 5.25229358e-01, 1.84091510e+01,3.98871483e-01, 1.38006918e+01, 9.30031806e-05,1.20997849e-03,4.86319761e-03,7.18616676e-02]\n",
    "def process(frame_sq,frame_sq_gray):\n",
    "    h = calculate_n_of_hsv(frame_sq,0)\n",
    "    s = calculate_n_of_hsv(frame_sq,1)\n",
    "    v = calculate_n_of_hsv(frame_sq,2)\n",
    "    opticFlow = calculate_opticFlow(frame_sq_gray)\n",
    "    return normalize(np.append(h,np.append(s,np.append(v,opticFlow))))\n",
    "def normalize(dataset):\n",
    "    datasetTmp = np.copy(dataset)\n",
    "    datasetTmp -= _min\n",
    "    datasetTmp /= _range\n",
    "    return datasetTmp"
   ]
  },
  {
   "cell_type": "code",
   "execution_count": 14,
   "metadata": {},
   "outputs": [],
   "source": [
    "definition = ['static', 'move', 'rot', 'frot', 'light', 'dynamiclight','unknown']\n",
    "def predict(output):\n",
    "    prediction = model.predict(output.reshape(1,10))\n",
    "    return(definition[np.argmax(prediction[0])])"
   ]
  },
  {
   "cell_type": "markdown",
   "metadata": {},
   "source": [
    "<h1>Start</h1>"
   ]
  },
  {
   "cell_type": "code",
   "execution_count": 15,
   "metadata": {},
   "outputs": [
    {
     "name": "stdout",
     "output_type": "stream",
     "text": [
      "[2.86771378e+02 4.71243260e+04 1.32189193e+02 2.43635850e+04\n",
      " 2.83951730e+02 2.84082168e+04 1.23239958e+00 6.32137155e-01\n",
      "            nan 3.61426508e-01]\n",
      "static[3.06564511e+02 5.68965921e+04 1.02362994e+02 1.76482700e+04\n",
      " 2.66715803e+02 2.34763566e+04 1.70859928e+00 7.69585453e-01\n",
      " 2.52142885e+00 5.49537900e-01]\n",
      "light[2.92185921e+02 5.98401686e+04 1.23429093e+02 2.47662582e+04\n",
      " 2.95236490e+02 3.90500800e+04 2.03809941e+00 7.04094554e-01\n",
      " 7.77712948e+00 4.52255486e-01]\n",
      "light[2.62040175e+02 5.05976739e+04 1.51046673e+02 2.89660497e+04\n",
      " 3.05567857e+02 3.87913757e+04 2.63318260e+00 7.08621093e-01\n",
      " 6.08020913e+00 7.20169452e-01]\n",
      "light[2.59347337e+02 6.80913217e+04 5.58835145e+01 6.01822520e+03\n",
      " 3.12085694e+02 1.64292115e+04 2.48101266e+00 7.21628496e-01\n",
      " 3.39694352e+00 3.56911166e-01]\n",
      "light[2.50214880e+02 7.03754923e+04 5.56481714e+01 6.12173883e+03\n",
      " 3.06099069e+02 1.63708488e+04 1.36426062e+00 7.97150020e-01\n",
      " 3.12299792e+00 4.92270790e-01]\n",
      "light"
     ]
    }
   ],
   "source": [
    "import numpy as np\n",
    "import cv2\n",
    "import sys\n",
    "from sklearn import preprocessing\n",
    "\n",
    "frame_sq = []\n",
    "frame_sq_gray = []\n",
    "BUFFER_SIZE = 100\n",
    "cap = cv2.VideoCapture(1)\n",
    "video_count = 0\n",
    "while(True):\n",
    "    ret, frame = cap.read()\n",
    "    hsv = cv2.cvtColor(frame,cv2.COLOR_BGR2HSV)  \n",
    "    gray = cv2.cvtColor(frame, cv2.COLOR_BGR2GRAY) \n",
    "    if(video_count == 0):\n",
    "        WIDTH = int(cap.get(3))\n",
    "        HEIGHT = int(cap.get(4))\n",
    "        video_count += 1\n",
    "    frame_sq.append(hsv)\n",
    "    frame_sq_gray.append(gray)\n",
    "    if(len(frame_sq) + 1 >= BUFFER_SIZE):\n",
    "        output = process(frame_sq, frame_sq_gray)\n",
    "        print(output)\n",
    "        predictt = predict(output)\n",
    "        sys.stdout.write(\"\\r\" + predictt)\n",
    "        sys.stdout.flush()        \n",
    "#         del frame_sq[0]\n",
    "        frame_sq = []\n",
    "        frame_sq_gray = []\n",
    "    cv2.imshow('frame',frame)\n",
    "    if cv2.waitKey(1) & 0xFF == ord('q'):\n",
    "        break\n",
    "    \n",
    "cap.release()\n",
    "cv2.destroyAllWindows()"
   ]
  },
  {
   "cell_type": "code",
   "execution_count": null,
   "metadata": {},
   "outputs": [],
   "source": []
  }
 ],
 "metadata": {
  "kernelspec": {
   "display_name": "Python 3",
   "language": "python",
   "name": "python3"
  },
  "language_info": {
   "codemirror_mode": {
    "name": "ipython",
    "version": 3
   },
   "file_extension": ".py",
   "mimetype": "text/x-python",
   "name": "python",
   "nbconvert_exporter": "python",
   "pygments_lexer": "ipython3",
   "version": "3.6.1"
  }
 },
 "nbformat": 4,
 "nbformat_minor": 2
}
