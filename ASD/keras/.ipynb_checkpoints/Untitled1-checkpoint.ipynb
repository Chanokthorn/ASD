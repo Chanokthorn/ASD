{
 "cells": [
  {
   "cell_type": "markdown",
   "metadata": {},
   "source": [
    "<h1>Load Required Functions</h1>"
   ]
  },
  {
   "cell_type": "code",
   "execution_count": 1,
   "metadata": {
    "colab": {
     "autoexec": {
      "startup": false,
      "wait_interval": 0
     }
    },
    "colab_type": "code",
    "id": "Kv2It0UYTBq7"
   },
   "outputs": [],
   "source": [
    "import cv2\n",
    "import matplotlib.pyplot as plt\n",
    "import os\n",
    "import numpy as np\n",
    "\n",
    "BUFFER_SIZE = 100\n",
    "WIDTH = 1280\n",
    "HEIGHT = 720\n",
    "video_count = 0"
   ]
  },
  {
   "cell_type": "code",
   "execution_count": 2,
   "metadata": {
    "colab": {
     "autoexec": {
      "startup": false,
      "wait_interval": 0
     }
    },
    "colab_type": "code",
    "collapsed": true,
    "id": "UMWqnsH9TBrC"
   },
   "outputs": [],
   "source": [
    "def calculate_n_of_hsv(frame_sq,n):\n",
    "    sum_n = 0\n",
    "    var_n = 0\n",
    "    for frame in frame_sq:\n",
    "        var_n += np.var(frame[:,:,n])# / (np.mean(frame[:,:,n]) * 1\n",
    "        sum_n += np.sum(frame[:,:,n])\n",
    "\n",
    "    avg_n = sum_n/ (len(frame_sq) * frame_sq[0].shape[0] * frame_sq[0].shape[1])\n",
    "    return np.array([avg_n ,var_n])\n",
    "def calculate_comp(frame_sq):\n",
    "    sum_comp = 0\n",
    "    for i in range(len(frame_sq)):\n",
    "        if(i != 0):\n",
    "            sum_comp += compare_img(frame_sq[i], frame_sq[i-1])\n",
    "#         if(i == 1): print(compare_img(frame_sq[i], frame_sq[i-1]))\n",
    "    sum_comp /= (len(frame_sq) - 1)\n",
    "    return sum_comp\n",
    "def calculate_opticFlow(frame_sq):\n",
    "    prvs = cv2.resize(frame_sq[0],(0,0),fx=0.5,fy=0.5)\n",
    "    mag_sum = 0\n",
    "    ang_sum = 0\n",
    "    var_mag = 0\n",
    "    var_ang = 0\n",
    "    for i in range(1,len(frame_sq)):\n",
    "        frame2 = frame_sq[i]\n",
    "        next = cv2.resize(frame2, (0,0), fx=0.5, fy=0.5) \n",
    "        flow = cv2.calcOpticalFlowFarneback(prvs,next, None, 0.5, 3, 15, 3, 5, 1.2, 0)\n",
    "        mag, ang = cv2.cartToPolar(flow[...,0], flow[...,1])\n",
    "        mag = cv2.normalize(mag,None,0,1,cv2.NORM_MINMAX)\n",
    "        ang = np.absolute(cv2.normalize(ang,None,-1,1,cv2.NORM_MINMAX))\n",
    "        mag_sum = np.sum(mag)\n",
    "        ang_sum = np.sum(ang)\n",
    "        var_mag += np.var(mag)\n",
    "        var_ang += np.var(ang)\n",
    "    mag_sum /= (BUFFER_SIZE * WIDTH * HEIGHT)\n",
    "    ang_sum /= (BUFFER_SIZE * WIDTH * HEIGHT)\n",
    "    var_mag /= BUFFER_SIZE\n",
    "    var_ang /= BUFFER_SIZE\n",
    "    return np.array([mag_sum, ang_sum, var_mag, var_ang])"
   ]
  },
  {
   "cell_type": "code",
   "execution_count": 3,
   "metadata": {
    "collapsed": true
   },
   "outputs": [],
   "source": [
    "def compare_img(img1,img2):\n",
    "    img1 = normalize_gray(img1)\n",
    "    img2 = normalize_gray(img2)\n",
    "    diff = img1 - img2\n",
    "    m_norm = np.sum(abs(diff))\n",
    "#     return m_norm\n",
    "    return 0\n",
    "def normalize_frame(frame):\n",
    "    return frame/255\n",
    "\n",
    "def normalize_gray(frame):\n",
    "    rng = np.max(frame) - np.min(frame)\n",
    "    amin = np.min(frame)\n",
    "    return (frame-amin)/rng #range from [0,1]\n",
    "def createDataset(data):\n",
    "    dataset = data[0].copy()\n",
    "    data.remove(data[0])\n",
    "    for datum in data:\n",
    "        dataset = np.append(dataset, datum, axis = 1)\n",
    "    return dataset\n",
    "def createTSV(dataset,filename):\n",
    "    dataset = (dataset.copy()).astype(str)\n",
    "#     datasetName = \"dataset\" + str(dataset_no) + \".tsv\"\n",
    "    datasetName = filename + \".tsv\"\n",
    "    file = open(datasetName, \"w\")\n",
    "#     file.write(\"h\\ts\\tv\\tframe_edges_comp\\tframe_comp\\n\")\n",
    "    for i in range(dataset.shape[0]):\n",
    "        file.write(\"\\t\".join(dataset[i,:].tolist()))\n",
    "        file.write(\"\\n\")\n",
    "#         if(i + 1 != dataset.shape[0]):\n",
    "#             file.write(\"\\n\")\n",
    "    file.close()\n",
    "    return\n",
    "def createTSVLabel(dataset,filename):\n",
    "    dataset = (dataset.copy()).astype(str)\n",
    "#     datasetName = \"label\" + str(dataset_no) + \".tsv\"\n",
    "    datasetName = filename\n",
    "    file = open(datasetName, \"w\")\n",
    "    file.write(\"havg\\thv\\tsavg\\tsv\\tvavg\\tvv\\tmagavg\\tmagv\\tangavg\\tangv\\n\")\n",
    "    for i in range(dataset.shape[0]):\n",
    "        file.write(\"\\t\".join(dataset[i,:].tolist()))\n",
    "        file.write(\"\\n\")\n",
    "#         if(i + 1 != dataset.shape[0]):\n",
    "#             file.write(\"\\n\")\n",
    "    file.close()\n",
    "    return\n"
   ]
  },
  {
   "cell_type": "code",
   "execution_count": 4,
   "metadata": {},
   "outputs": [],
   "source": [
    "def normalize(dataset):\n",
    "    dataset = np.copy(dataset)\n",
    "    datasetNan = np.isnan(dataset).any(axis=1)\n",
    "    nans = []\n",
    "    for i in range(datasetNan.shape[0]):\n",
    "        if(datasetNan[i] == True):\n",
    "            nans.append(i)\n",
    "    dataset = dataset[~np.isnan(dataset).any(axis=1)]\n",
    "    max_values = np.max(dataset,axis=0)\n",
    "    min_values = np.min(dataset,axis=0)\n",
    "    ranges = max_values - min_values\n",
    "    dataset /= ranges\n",
    "    return (dataset,nans)\n",
    "    "
   ]
  },
  {
   "cell_type": "markdown",
   "metadata": {},
   "source": [
    "<h1>Load Model</h1>"
   ]
  },
  {
   "cell_type": "code",
   "execution_count": 5,
   "metadata": {},
   "outputs": [
    {
     "name": "stderr",
     "output_type": "stream",
     "text": [
      "/home/bon/anaconda3/lib/python3.6/site-packages/h5py/__init__.py:36: FutureWarning: Conversion of the second argument of issubdtype from `float` to `np.floating` is deprecated. In future, it will be treated as `np.float64 == np.dtype(float).type`.\n",
      "  from ._conv import register_converters as _register_converters\n",
      "Using TensorFlow backend.\n"
     ]
    },
    {
     "name": "stdout",
     "output_type": "stream",
     "text": [
      "Loaded model from disk\n"
     ]
    }
   ],
   "source": [
    "from keras.models import model_from_yaml\n",
    "# load YAML and create model\n",
    "yaml_file = open('modell.yaml', 'r')\n",
    "loaded_model_yaml = yaml_file.read()\n",
    "yaml_file.close()\n",
    "model = model_from_yaml(loaded_model_yaml)\n",
    "# load weights into new model\n",
    "model.load_weights(\"modell.h5\")\n",
    "print(\"Loaded model from disk\")\n"
   ]
  },
  {
   "cell_type": "code",
   "execution_count": 18,
   "metadata": {},
   "outputs": [],
   "source": [
    "_min = [1.68698948e-01,5.71359754e-01,7.26006841e-02,1.91583500e-01,2.30490743e-01,1.69076206e+00,1.60691440e-06,3.60041682e-04,7.00276490e-04,5.24942415e-02]\n",
    "_range = [1.88006912e-01, 2.37081875e+00, 5.25229358e-01, 1.84091510e+01,3.98871483e-01, 1.38006918e+01, 9.30031806e-05,1.20997849e-03,4.86319761e-03,7.18616676e-02]\n",
    "def process(frame_sq,frame_sq_gray):\n",
    "    h = calculate_n_of_hsv(frame_sq,0)\n",
    "    s = calculate_n_of_hsv(frame_sq,1)\n",
    "    v = calculate_n_of_hsv(frame_sq,2)\n",
    "    opticFlow = calculate_opticFlow(frame_sq_gray)\n",
    "    return normalize(np.append(h,np.append(s,np.append(v,opticFlow))))\n",
    "def normalize(dataset):\n",
    "    datasetTmp = np.copy(dataset)\n",
    "    datasetTmp -= _min\n",
    "    datasetTmp /= _range\n",
    "    return datasetTmp"
   ]
  },
  {
   "cell_type": "code",
   "execution_count": 14,
   "metadata": {},
   "outputs": [],
   "source": [
    "definition = ['static', 'move', 'rot', 'frot', 'light', 'dynamiclight','unknown']\n",
    "def predict(output):\n",
    "    prediction = model.predict(output.reshape(1,10))\n",
    "    return(definition[np.argmax(prediction[0])])"
   ]
  },
  {
   "cell_type": "markdown",
   "metadata": {},
   "source": [
    "<h1>Start</h1>"
   ]
  },
  {
   "cell_type": "code",
   "execution_count": 19,
   "metadata": {},
   "outputs": [
    {
     "name": "stdout",
     "output_type": "stream",
     "text": [
      "[2.54111965e+02 2.85502846e+04 6.03072601e+01 9.05069215e+03\n",
      " 3.54157169e+02 9.19145995e+03 1.28299659e+00 1.01833830e+00\n",
      " 1.24767937e+00 2.57751668e-01]\n",
      "light[2.56337075e+02 2.90731664e+04 5.94950156e+01 9.04412932e+03\n",
      " 3.52880848e+02 9.17663339e+03 1.15023830e+00 7.30892385e-01\n",
      " 4.42903802e-01 5.78134980e-01]\n",
      "light[2.91352045e+02 4.00609614e+04 6.52163841e+01 6.62126060e+03\n",
      " 3.67221533e+02 7.82227801e+03 2.64287744e+00 6.95055242e-01\n",
      " 1.42499538e+00 6.41721581e-01]\n",
      "light[2.84620388e+02 3.46433361e+04 9.15418692e+01 1.53968370e+04\n",
      " 3.46057768e+02 1.38860400e+04 3.74170477e+00 4.07970682e-01\n",
      " 2.03962943e+00 6.61209658e-01]\n",
      "light[3.06269249e+02 4.85143898e+04 1.26728376e+02 1.36309160e+04\n",
      " 3.43664247e+02 3.86887472e+04 3.66330106e+00 9.10833908e-01\n",
      " 3.04467658e+00 5.24901605e-01]\n",
      "light[2.89508373e+02 3.65576255e+04 1.09341776e+02 1.63068074e+04\n",
      " 2.96234229e+02 5.11171916e+04 1.82341928e+00 8.24122721e-01\n",
      " 2.34849842e+00 5.63994896e-01]\n",
      "light[2.89072839e+02 4.50159023e+04 1.67105547e+02 2.67903659e+04\n",
      " 3.22253722e+02 3.43457222e+04 5.65948780e+00 5.47099526e-01\n",
      " 3.53978320e+00 3.25862342e-01]\n",
      "light[2.39374282e+02 3.48725999e+04 6.28912888e+01 8.36041796e+03\n",
      " 2.77260293e+02 3.26299312e+04 5.31617542e+00 7.65301986e-01\n",
      " 3.18172292e+00 3.74271946e-01]\n",
      "light[2.21872720e+02 3.07651335e+04 4.08137173e+01 4.66485830e+03\n",
      " 2.75884599e+02 3.05683178e+04 4.37462583e+00 9.03747378e-01\n",
      " 5.17697004e+00 1.12251279e-01]\n",
      "light[2.91384620e+02 3.17234083e+04 5.52599418e+01 4.32300098e+03\n",
      " 3.85906163e+02 1.28401271e+04 1.34893049e+00 6.62144433e-01\n",
      " 1.47846715e+00 4.79134902e-01]\n",
      "light[3.14508821e+02 3.39705956e+04 4.92387829e+01 3.09759886e+03\n",
      " 3.61587789e+02 4.03343144e+03 1.82281531e+00 8.42562224e-01\n",
      " 4.83926229e+00 7.78793257e-01]\n",
      "light[ 2.48597041e+02  2.26502143e+04  5.45967789e+01  2.16342428e+03\n",
      "  3.67176396e+02  4.54901748e+03  4.21075190e+00  9.25325602e-01\n",
      "  4.09166375e+00 -1.88998121e-01]\n",
      "light[2.44652476e+02 2.24102076e+04 5.56100980e+01 2.11978489e+03\n",
      " 3.66113169e+02 4.56530408e+03 9.66744480e-01 1.06685633e+00\n",
      " 7.93737363e-01 5.70632198e-02]\n",
      "light[2.43979059e+02 2.22097472e+04 5.59142978e+01 2.10170385e+03\n",
      " 3.66240616e+02 4.55732571e+03 1.53040330e+00 1.00182026e+00\n",
      " 5.70213964e-01 2.14800260e-01]\n",
      "light[2.44529180e+02 2.24905611e+04 5.54930274e+01 2.10484412e+03\n",
      " 3.66510929e+02 4.54152571e+03 7.14025071e-01 9.92796185e-01\n",
      " 6.05204507e-01 2.51142165e-01]\n",
      "light[2.44704763e+02 2.25945578e+04 5.52596229e+01 2.13814305e+03\n",
      " 3.62891261e+02 4.69606889e+03 1.89554296e+00 9.31462960e-01\n",
      " 8.54263541e-01 2.74556500e-01]\n",
      "light[2.43691898e+02 2.21762533e+04 5.56958303e+01 2.10080839e+03\n",
      " 3.63618998e+02 4.60672569e+03 1.86575106e+00 9.33232569e-01\n",
      " 9.03838154e-01 3.73655327e-01]\n",
      "light[2.43136288e+02 2.21021962e+04 5.58213504e+01 2.08389985e+03\n",
      " 3.66682043e+02 4.50442368e+03 1.49823276e+00 9.50510618e-01\n",
      " 8.47419210e-01 3.39519194e-01]\n",
      "light[2.42503632e+02 2.19177624e+04 5.61145388e+01 2.07693435e+03\n",
      " 3.66563141e+02 4.49417459e+03 1.18762140e+00 9.20235885e-01\n",
      " 6.48209268e-01 4.07982249e-01]\n",
      "light[2.42241224e+02 2.18298747e+04 5.62117163e+01 2.07642494e+03\n",
      " 3.65993026e+02 4.46972706e+03 1.33786765e+00 8.77561275e-01\n",
      " 6.90605279e-01 3.57048229e-01]\n",
      "light[2.42092771e+02 2.17319128e+04 5.62496128e+01 2.07451545e+03\n",
      " 3.64533810e+02 4.47568315e+03 1.13271625e+00 8.86762740e-01\n",
      " 4.64514449e-01 3.59055444e-01]\n",
      "light[2.41798665e+02 2.15968184e+04 5.64425045e+01 2.07064249e+03\n",
      " 3.64415730e+02 4.46889500e+03 1.14499174e+00 9.10579380e-01\n",
      " 5.73725671e-01 3.39016778e-01]\n",
      "light[2.41375628e+02 2.14389363e+04 5.66819440e+01 2.06046588e+03\n",
      " 3.64575867e+02 4.46643996e+03 1.05020812e+00 8.96616394e-01\n",
      " 3.41121722e-01 4.01603991e-01]\n",
      "light[2.40834647e+02 2.12548113e+04 5.69493610e+01 2.05563272e+03\n",
      " 3.64417729e+02 4.45658913e+03 1.00967553e+00 8.91608228e-01\n",
      " 6.40088450e-01 3.95790605e-01]\n",
      "light[2.39931913e+02 2.09943677e+04 5.73491405e+01 2.04677114e+03\n",
      " 3.63989066e+02 4.44983622e+03 1.48514086e+00 9.00176631e-01\n",
      " 8.67974859e-01 3.82399909e-01]\n",
      "light[2.39494686e+02 2.08131864e+04 5.76134323e+01 2.04006766e+03\n",
      " 3.63459076e+02 4.44510398e+03 1.66835902e+00 8.41342445e-01\n",
      " 9.31811008e-01 3.92578203e-01]\n",
      "light[2.38837073e+02 2.08003732e+04 5.77740497e+01 2.03746246e+03\n",
      " 3.62828683e+02 4.43071266e+03 1.30658752e+00 8.88693138e-01\n",
      " 8.64900992e-01 3.71072415e-01]\n",
      "light[2.39633061e+02 2.09257576e+04 5.75647238e+01 2.05269835e+03\n",
      " 3.63240943e+02 4.42097948e+03 1.70997129e+00 8.19317063e-01\n",
      " 7.48279415e-01 3.61094520e-01]\n",
      "light[2.42905200e+02 2.22603231e+04 5.55322793e+01 2.15256723e+03\n",
      " 3.63388975e+02 4.35669426e+03 1.33085847e+00 7.90116666e-01\n",
      " 6.65544182e-01 3.60495576e-01]\n",
      "light[2.42524883e+02 2.21259024e+04 5.56570642e+01 2.14458538e+03\n",
      " 3.63223328e+02 4.35993752e+03 1.14637306e+00 7.93360057e-01\n",
      " 3.87459940e-01 3.65118421e-01]\n",
      "light[2.41956148e+02 2.19395918e+04 5.58957690e+01 2.13592321e+03\n",
      " 3.63161308e+02 4.35735407e+03 1.59146832e+00 8.72781889e-01\n",
      " 7.48248071e-01 3.98123332e-01]\n",
      "light[2.41622514e+02 2.18117109e+04 5.60848769e+01 2.13232756e+03\n",
      " 3.62861605e+02 4.35288952e+03 1.41452728e+00 8.53507132e-01\n",
      " 7.95817638e-01 3.57977240e-01]\n",
      "light[2.41633023e+02 2.18075696e+04 5.61122097e+01 2.13111504e+03\n",
      " 3.62631890e+02 4.40437194e+03 1.30747579e+00 8.35813453e-01\n",
      " 1.01777784e+00 4.10365525e-01]\n",
      "light[2.40043919e+02 2.15042374e+04 5.65692032e+01 2.10234356e+03\n",
      " 3.64565809e+02 4.37945728e+03 1.68801754e+00 6.95782044e-01\n",
      " 6.90161913e-01 3.96716710e-01]\n",
      "light[2.40414836e+02 2.16429239e+04 5.63223867e+01 2.11595853e+03\n",
      " 3.64398126e+02 4.37189898e+03 9.38681779e-01 8.17119738e-01\n",
      " 4.03969865e-01 4.04283993e-01]\n",
      "light[2.41295386e+02 2.16088852e+04 5.62497864e+01 2.13433665e+03\n",
      " 3.62418095e+02 4.37064238e+03 1.68176674e+00 8.04495072e-01\n",
      " 8.34463951e-01 3.69294144e-01]\n",
      "light[2.41066597e+02 2.14396680e+04 5.65364107e+01 2.11665111e+03\n",
      " 3.62104138e+02 4.34433149e+03 1.69407453e+00 8.82120917e-01\n",
      " 8.42490652e-01 3.60989126e-01]\n",
      "light"
     ]
    }
   ],
   "source": [
    "import numpy as np\n",
    "import cv2\n",
    "import sys\n",
    "\n",
    "frame_sq = []\n",
    "frame_sq_gray = []\n",
    "BUFFER_SIZE = 100\n",
    "cap = cv2.VideoCapture(0)\n",
    "video_count = 0\n",
    "while(True):\n",
    "    ret, frame = cap.read()\n",
    "    hsv = cv2.cvtColor(frame,cv2.COLOR_BGR2HSV)  \n",
    "    gray = cv2.cvtColor(frame, cv2.COLOR_BGR2GRAY) \n",
    "    if(video_count == 0):\n",
    "        WIDTH = int(cap.get(3))\n",
    "        HEIGHT = int(cap.get(4))\n",
    "        video_count += 1\n",
    "    frame_sq.append(hsv)\n",
    "    frame_sq_gray.append(gray)\n",
    "    if(len(frame_sq) + 1 >= BUFFER_SIZE):\n",
    "        output = process(frame_sq, frame_sq_gray)\n",
    "        print(output)\n",
    "        sys.stdout.write(\"\\r\" + predict(output))\n",
    "        sys.stdout.flush()        \n",
    "#         del frame_sq[0]\n",
    "        frame_sq = []\n",
    "        frame_sq_gray = []\n",
    "    cv2.imshow('frame',frame)\n",
    "    if cv2.waitKey(1) & 0xFF == ord('q'):\n",
    "        break\n",
    "    \n",
    "cap.release()\n",
    "cv2.destroyAllWindows()"
   ]
  },
  {
   "cell_type": "code",
   "execution_count": null,
   "metadata": {},
   "outputs": [],
   "source": []
  }
 ],
 "metadata": {
  "kernelspec": {
   "display_name": "Python 3",
   "language": "python",
   "name": "python3"
  },
  "language_info": {
   "codemirror_mode": {
    "name": "ipython",
    "version": 3
   },
   "file_extension": ".py",
   "mimetype": "text/x-python",
   "name": "python",
   "nbconvert_exporter": "python",
   "pygments_lexer": "ipython3",
   "version": "3.6.5"
  }
 },
 "nbformat": 4,
 "nbformat_minor": 2
}
