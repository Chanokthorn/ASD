{
 "cells": [
  {
   "cell_type": "markdown",
   "metadata": {},
   "source": [
    "<h1>Load Required Functions</h1>"
   ]
  },
  {
   "cell_type": "code",
   "execution_count": 5,
   "metadata": {
    "colab": {
     "autoexec": {
      "startup": false,
      "wait_interval": 0
     }
    },
    "colab_type": "code",
    "id": "Kv2It0UYTBq7"
   },
   "outputs": [],
   "source": [
    "import cv2\n",
    "import matplotlib.pyplot as plt\n",
    "import os\n",
    "import numpy as np\n",
    "\n",
    "BUFFER_SIZE = 100\n",
    "WIDTH = 1280\n",
    "HEIGHT = 720\n",
    "video_count = 0"
   ]
  },
  {
   "cell_type": "code",
   "execution_count": 6,
   "metadata": {
    "colab": {
     "autoexec": {
      "startup": false,
      "wait_interval": 0
     }
    },
    "colab_type": "code",
    "collapsed": true,
    "id": "UMWqnsH9TBrC"
   },
   "outputs": [],
   "source": [
    "def calculate_n_of_hsv(frame_sq,n):\n",
    "    sum_n = 0\n",
    "    var_n = 0\n",
    "    for frame in frame_sq:\n",
    "        var_n += np.var(frame[:,:,n])# / (np.mean(frame[:,:,n]) * 1\n",
    "        sum_n += np.sum(frame[:,:,n])\n",
    "\n",
    "    avg_n = sum_n/ (len(frame_sq) * frame_sq[0].shape[0] * frame_sq[0].shape[1])\n",
    "    return np.array([avg_n ,var_n])\n",
    "def calculate_comp(frame_sq):\n",
    "    sum_comp = 0\n",
    "    for i in range(len(frame_sq)):\n",
    "        if(i != 0):\n",
    "            sum_comp += compare_img(frame_sq[i], frame_sq[i-1])\n",
    "#         if(i == 1): print(compare_img(frame_sq[i], frame_sq[i-1]))\n",
    "    sum_comp /= (len(frame_sq) - 1)\n",
    "    return sum_comp\n",
    "def calculate_opticFlow(frame_sq):\n",
    "    prvs = cv2.resize(frame_sq[0],(0,0),fx=0.5,fy=0.5)\n",
    "    mag_sum = 0\n",
    "    ang_sum = 0\n",
    "    var_mag = 0\n",
    "    var_ang = 0\n",
    "    for i in range(1,len(frame_sq)):\n",
    "        frame2 = frame_sq[i]\n",
    "        next = cv2.resize(frame2, (0,0), fx=0.5, fy=0.5) \n",
    "        flow = cv2.calcOpticalFlowFarneback(prvs,next, None, 0.5, 3, 15, 3, 5, 1.2, 0)\n",
    "        mag, ang = cv2.cartToPolar(flow[...,0], flow[...,1])\n",
    "        mag = cv2.normalize(mag,None,0,1,cv2.NORM_MINMAX)\n",
    "        ang = np.absolute(cv2.normalize(ang,None,-1,1,cv2.NORM_MINMAX))\n",
    "        mag_sum = np.sum(mag)\n",
    "        ang_sum = np.sum(ang)\n",
    "        var_mag += np.var(mag)\n",
    "        var_ang += np.var(ang)\n",
    "    mag_sum /= (BUFFER_SIZE * WIDTH * HEIGHT)\n",
    "    ang_sum /= (BUFFER_SIZE * WIDTH * HEIGHT)\n",
    "    var_mag /= BUFFER_SIZE\n",
    "    var_ang /= BUFFER_SIZE\n",
    "    return np.array([mag_sum, ang_sum, var_mag, var_ang])"
   ]
  },
  {
   "cell_type": "code",
   "execution_count": 7,
   "metadata": {
    "collapsed": true
   },
   "outputs": [],
   "source": [
    "def compare_img(img1,img2):\n",
    "    img1 = normalize_gray(img1)\n",
    "    img2 = normalize_gray(img2)\n",
    "    diff = img1 - img2\n",
    "    m_norm = np.sum(abs(diff))\n",
    "#     return m_norm\n",
    "    return 0\n",
    "def normalize_frame(frame):\n",
    "    return frame/255\n",
    "\n",
    "def normalize_gray(frame):\n",
    "    rng = np.max(frame) - np.min(frame)\n",
    "    amin = np.min(frame)\n",
    "    return (frame-amin)/rng #range from [0,1]\n",
    "def createDataset(data):\n",
    "    dataset = data[0].copy()\n",
    "    data.remove(data[0])\n",
    "    for datum in data:\n",
    "        dataset = np.append(dataset, datum, axis = 1)\n",
    "    return dataset\n",
    "def createTSV(dataset,filename):\n",
    "    dataset = (dataset.copy()).astype(str)\n",
    "#     datasetName = \"dataset\" + str(dataset_no) + \".tsv\"\n",
    "    datasetName = filename + \".tsv\"\n",
    "    file = open(datasetName, \"w\")\n",
    "#     file.write(\"h\\ts\\tv\\tframe_edges_comp\\tframe_comp\\n\")\n",
    "    for i in range(dataset.shape[0]):\n",
    "        file.write(\"\\t\".join(dataset[i,:].tolist()))\n",
    "        file.write(\"\\n\")\n",
    "#         if(i + 1 != dataset.shape[0]):\n",
    "#             file.write(\"\\n\")\n",
    "    file.close()\n",
    "    return\n",
    "def createTSVLabel(dataset,filename):\n",
    "    dataset = (dataset.copy()).astype(str)\n",
    "#     datasetName = \"label\" + str(dataset_no) + \".tsv\"\n",
    "    datasetName = filename\n",
    "    file = open(datasetName, \"w\")\n",
    "    file.write(\"havg\\thv\\tsavg\\tsv\\tvavg\\tvv\\tmagavg\\tmagv\\tangavg\\tangv\\n\")\n",
    "    for i in range(dataset.shape[0]):\n",
    "        file.write(\"\\t\".join(dataset[i,:].tolist()))\n",
    "        file.write(\"\\n\")\n",
    "#         if(i + 1 != dataset.shape[0]):\n",
    "#             file.write(\"\\n\")\n",
    "    file.close()\n",
    "    return\n"
   ]
  },
  {
   "cell_type": "code",
   "execution_count": 9,
   "metadata": {},
   "outputs": [
    {
     "name": "stdout",
     "output_type": "stream",
     "text": [
      "StandardScaler(copy=True, with_mean=True, with_std=True)\n"
     ]
    }
   ],
   "source": [
    "from sklearn.preprocessing import StandardScaler\n",
    "from numpy import genfromtxt\n",
    "\n",
    "dataset = (genfromtxt(\"../normFrankensteinFullForm.csv\", delimiter=','))[1:,:]\n",
    "scaler = StandardScaler(copy=True)\n",
    "print(scaler.fit(dataset))\n",
    "\n",
    "def normalize(frame):\n",
    "    frame = scaler.transform(frame)\n",
    "    return frame\n",
    "#     datasetNan = np.isnan(dataset).any(axis=1)\n",
    "#     nans = []\n",
    "#     for i in range(datasetNan.shape[0]):\n",
    "#         if(datasetNan[i] == True):\n",
    "#             nans.append(i)\n",
    "#     dataset = dataset[~np.isnan(dataset).any(axis=1)]\n",
    "#     max_values = np.max(dataset,axis=0)\n",
    "#     min_values = np.min(dataset,axis=0)\n",
    "#     ranges = max_values - min_values\n",
    "#     dataset /= ranges\n",
    "    return (dataset,nans)\n",
    "    "
   ]
  },
  {
   "cell_type": "markdown",
   "metadata": {},
   "source": [
    "<h1>Load Model</h1>"
   ]
  },
  {
   "cell_type": "code",
   "execution_count": null,
   "metadata": {},
   "outputs": [],
   "source": [
    "from keras.models import model_from_yaml\n",
    "# load YAML and create model\n",
    "yaml_file = open('model4.yaml', 'r')\n",
    "loaded_model_yaml = yaml_file.read()\n",
    "yaml_file.close()\n",
    "model = model_from_yaml(loaded_model_yaml)\n",
    "# load weights into new model\n",
    "model.load_weights(\"model4.h5\")\n",
    "print(\"Loaded model from disk\")\n"
   ]
  },
  {
   "cell_type": "code",
   "execution_count": null,
   "metadata": {},
   "outputs": [],
   "source": [
    "from numpy import genfromtxt\n",
    "dataset = (genfromtxt(\"./FrankensteinFullForm.csv\", delimiter=','))[1:,:]"
   ]
  },
  {
   "cell_type": "code",
   "execution_count": null,
   "metadata": {},
   "outputs": [],
   "source": [
    "1.68698948e-01 + 3"
   ]
  },
  {
   "cell_type": "code",
   "execution_count": null,
   "metadata": {},
   "outputs": [],
   "source": [
    "_min = [1.68698948e-01,5.71359754e-01,7.26006841e-02,1.91583500e-01,2.30490743e-01,1.69076206e+00,1.60691440e-06,3.60041682e-04,7.00276490e-04,5.24942415e-02]\n",
    "_range = [1.88006912e-01, 2.37081875e+00, 5.25229358e-01, 1.84091510e+01,3.98871483e-01, 1.38006918e+01, 9.30031806e-05,1.20997849e-03,4.86319761e-03,7.18616676e-02]\n",
    "def process(frame_sq,frame_sq_gray):\n",
    "    h = calculate_n_of_hsv(frame_sq,0)\n",
    "    s = calculate_n_of_hsv(frame_sq,1)\n",
    "    v = calculate_n_of_hsv(frame_sq,2)\n",
    "    opticFlow = calculate_opticFlow(frame_sq_gray)\n",
    "    return normalize(np.append(h,np.append(s,np.append(v,opticFlow))))\n",
    "def normalize(dataset):\n",
    "    datasetTmp = np.copy(dataset)\n",
    "    datasetTmp -= _min\n",
    "    datasetTmp /= _range\n",
    "    return datasetTmp"
   ]
  },
  {
   "cell_type": "code",
   "execution_count": null,
   "metadata": {},
   "outputs": [],
   "source": [
    "definition = ['static', 'move', 'rot', 'frot', 'light', 'dynamiclight','unknown']\n",
    "def predict(output):\n",
    "    prediction = model.predict(output.reshape(1,10))\n",
    "    return(definition[np.argmax(prediction[0])])"
   ]
  },
  {
   "cell_type": "markdown",
   "metadata": {},
   "source": [
    "<h1>Start</h1>"
   ]
  },
  {
   "cell_type": "code",
   "execution_count": 31,
   "metadata": {},
   "outputs": [
    {
     "ename": "AttributeError",
     "evalue": "module 'sklearn.preprocessing' has no attribute 'fit_transform'",
     "output_type": "error",
     "traceback": [
      "\u001b[1;31m---------------------------------------------------------------------------\u001b[0m",
      "\u001b[1;31mAttributeError\u001b[0m                            Traceback (most recent call last)",
      "\u001b[1;32m<ipython-input-31-81f9204f172b>\u001b[0m in \u001b[0;36m<module>\u001b[1;34m()\u001b[0m\n\u001b[0;32m     21\u001b[0m     \u001b[1;32mif\u001b[0m\u001b[1;33m(\u001b[0m\u001b[0mlen\u001b[0m\u001b[1;33m(\u001b[0m\u001b[0mframe_sq\u001b[0m\u001b[1;33m)\u001b[0m \u001b[1;33m+\u001b[0m \u001b[1;36m1\u001b[0m \u001b[1;33m>=\u001b[0m \u001b[0mBUFFER_SIZE\u001b[0m\u001b[1;33m)\u001b[0m\u001b[1;33m:\u001b[0m\u001b[1;33m\u001b[0m\u001b[0m\n\u001b[0;32m     22\u001b[0m         \u001b[0moutput\u001b[0m \u001b[1;33m=\u001b[0m \u001b[0mprocess\u001b[0m\u001b[1;33m(\u001b[0m\u001b[0mframe_sq\u001b[0m\u001b[1;33m,\u001b[0m \u001b[0mframe_sq_gray\u001b[0m\u001b[1;33m)\u001b[0m\u001b[1;33m\u001b[0m\u001b[0m\n\u001b[1;32m---> 23\u001b[1;33m         \u001b[0moutput\u001b[0m \u001b[1;33m=\u001b[0m \u001b[0mpreprocessing\u001b[0m\u001b[1;33m.\u001b[0m\u001b[0mfit_transform\u001b[0m\u001b[1;33m(\u001b[0m\u001b[1;33m)\u001b[0m\u001b[1;33m\u001b[0m\u001b[0m\n\u001b[0m\u001b[0;32m     24\u001b[0m         \u001b[0mprint\u001b[0m\u001b[1;33m(\u001b[0m\u001b[0moutput\u001b[0m\u001b[1;33m)\u001b[0m\u001b[1;33m\u001b[0m\u001b[0m\n\u001b[0;32m     25\u001b[0m         \u001b[0mpredictt\u001b[0m \u001b[1;33m=\u001b[0m \u001b[0mpredict\u001b[0m\u001b[1;33m(\u001b[0m\u001b[0moutput\u001b[0m\u001b[1;33m)\u001b[0m\u001b[1;33m\u001b[0m\u001b[0m\n",
      "\u001b[1;31mAttributeError\u001b[0m: module 'sklearn.preprocessing' has no attribute 'fit_transform'"
     ]
    }
   ],
   "source": [
    "import numpy as np\n",
    "import cv2\n",
    "import sys\n",
    "from sklearn import preprocessing\n",
    "\n",
    "frame_sq = []\n",
    "frame_sq_gray = []\n",
    "BUFFER_SIZE = 100\n",
    "cap = cv2.VideoCapture(1)\n",
    "video_count = 0\n",
    "while(True):\n",
    "    ret, frame = cap.read()\n",
    "    hsv = cv2.cvtColor(frame,cv2.COLOR_BGR2HSV)  \n",
    "    gray = cv2.cvtColor(frame, cv2.COLOR_BGR2GRAY) \n",
    "    if(video_count == 0):\n",
    "        WIDTH = int(cap.get(3))\n",
    "        HEIGHT = int(cap.get(4))\n",
    "        video_count += 1\n",
    "    frame_sq.append(hsv)\n",
    "    frame_sq_gray.append(gray)\n",
    "    if(len(frame_sq) + 1 >= BUFFER_SIZE):\n",
    "        output = process(frame_sq, frame_sq_gray)\n",
    "        print(output)\n",
    "        predictt = predict(output)\n",
    "        sys.stdout.write(\"\\r\" + predictt)\n",
    "        sys.stdout.flush()        \n",
    "#         del frame_sq[0]\n",
    "        frame_sq = []\n",
    "        frame_sq_gray = []\n",
    "    cv2.imshow('frame',frame)\n",
    "    if cv2.waitKey(1) & 0xFF == ord('q'):\n",
    "        break\n",
    "    \n",
    "cap.release()\n",
    "cv2.destroyAllWindows()"
   ]
  },
  {
   "cell_type": "code",
   "execution_count": null,
   "metadata": {},
   "outputs": [],
   "source": []
  }
 ],
 "metadata": {
  "kernelspec": {
   "display_name": "Python 3",
   "language": "python",
   "name": "python3"
  },
  "language_info": {
   "codemirror_mode": {
    "name": "ipython",
    "version": 3
   },
   "file_extension": ".py",
   "mimetype": "text/x-python",
   "name": "python",
   "nbconvert_exporter": "python",
   "pygments_lexer": "ipython3",
   "version": "3.6.1"
  }
 },
 "nbformat": 4,
 "nbformat_minor": 2
}
