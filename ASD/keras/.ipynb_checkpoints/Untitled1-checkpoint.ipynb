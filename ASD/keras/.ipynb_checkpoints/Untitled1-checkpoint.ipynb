{
 "cells": [
  {
   "cell_type": "markdown",
   "metadata": {},
   "source": [
    "<h1>Load Required Functions</h1>"
   ]
  },
  {
   "cell_type": "code",
   "execution_count": 1,
   "metadata": {
    "colab": {
     "autoexec": {
      "startup": false,
      "wait_interval": 0
     }
    },
    "colab_type": "code",
    "id": "Kv2It0UYTBq7"
   },
   "outputs": [],
   "source": [
    "import cv2\n",
    "import matplotlib.pyplot as plt\n",
    "import os\n",
    "import numpy as np\n",
    "\n",
    "BUFFER_SIZE = 100\n",
    "WIDTH = 1280\n",
    "HEIGHT = 720\n",
    "video_count = 0"
   ]
  },
  {
   "cell_type": "code",
   "execution_count": 2,
   "metadata": {
    "colab": {
     "autoexec": {
      "startup": false,
      "wait_interval": 0
     }
    },
    "colab_type": "code",
    "collapsed": true,
    "id": "UMWqnsH9TBrC"
   },
   "outputs": [],
   "source": [
    "def calculate_n_of_hsv(frame_sq,n):\n",
    "    sum_n = 0\n",
    "    var_n = 0\n",
    "    for frame in frame_sq:\n",
    "        var_n += np.var(frame[:,:,n])# / (np.mean(frame[:,:,n]) * 1\n",
    "        sum_n += np.sum(frame[:,:,n])\n",
    "\n",
    "    avg_n = sum_n/ (len(frame_sq) * frame_sq[0].shape[0] * frame_sq[0].shape[1])\n",
    "    return np.array([avg_n ,var_n])\n",
    "def calculate_comp(frame_sq):\n",
    "    sum_comp = 0\n",
    "    for i in range(len(frame_sq)):\n",
    "        if(i != 0):\n",
    "            sum_comp += compare_img(frame_sq[i], frame_sq[i-1])\n",
    "#         if(i == 1): print(compare_img(frame_sq[i], frame_sq[i-1]))\n",
    "    sum_comp /= (len(frame_sq) - 1)\n",
    "    return sum_comp\n",
    "def calculate_opticFlow(frame_sq):\n",
    "    prvs = cv2.resize(frame_sq[0],(0,0),fx=0.5,fy=0.5)\n",
    "    mag_sum = 0\n",
    "    ang_sum = 0\n",
    "    var_mag = 0\n",
    "    var_ang = 0\n",
    "    for i in range(1,len(frame_sq)):\n",
    "        frame2 = frame_sq[i]\n",
    "        next = cv2.resize(frame2, (0,0), fx=0.5, fy=0.5) \n",
    "        flow = cv2.calcOpticalFlowFarneback(prvs,next, None, 0.5, 3, 15, 3, 5, 1.2, 0)\n",
    "        mag, ang = cv2.cartToPolar(flow[...,0], flow[...,1])\n",
    "        mag = cv2.normalize(mag,None,0,1,cv2.NORM_MINMAX)\n",
    "        ang = np.absolute(cv2.normalize(ang,None,-1,1,cv2.NORM_MINMAX))\n",
    "        mag_sum = np.sum(mag)\n",
    "        ang_sum = np.sum(ang)\n",
    "        var_mag += np.var(mag)\n",
    "        var_ang += np.var(ang)\n",
    "    mag_sum /= (BUFFER_SIZE * WIDTH * HEIGHT)\n",
    "    ang_sum /= (BUFFER_SIZE * WIDTH * HEIGHT)\n",
    "    var_mag /= BUFFER_SIZE\n",
    "    var_ang /= BUFFER_SIZE\n",
    "    return np.array([mag_sum, ang_sum, var_mag, var_ang])"
   ]
  },
  {
   "cell_type": "code",
   "execution_count": 3,
   "metadata": {
    "collapsed": true
   },
   "outputs": [],
   "source": [
    "def compare_img(img1,img2):\n",
    "    img1 = normalize_gray(img1)\n",
    "    img2 = normalize_gray(img2)\n",
    "    diff = img1 - img2\n",
    "    m_norm = np.sum(abs(diff))\n",
    "#     return m_norm\n",
    "    return 0\n",
    "def normalize_frame(frame):\n",
    "    return frame/255\n",
    "\n",
    "def normalize_gray(frame):\n",
    "    rng = np.max(frame) - np.min(frame)\n",
    "    amin = np.min(frame)\n",
    "    return (frame-amin)/rng #range from [0,1]\n",
    "def createDataset(data):\n",
    "    dataset = data[0].copy()\n",
    "    data.remove(data[0])\n",
    "    for datum in data:\n",
    "        dataset = np.append(dataset, datum, axis = 1)\n",
    "    return dataset\n",
    "def createTSV(dataset,filename):\n",
    "    dataset = (dataset.copy()).astype(str)\n",
    "#     datasetName = \"dataset\" + str(dataset_no) + \".tsv\"\n",
    "    datasetName = filename + \".tsv\"\n",
    "    file = open(datasetName, \"w\")\n",
    "#     file.write(\"h\\ts\\tv\\tframe_edges_comp\\tframe_comp\\n\")\n",
    "    for i in range(dataset.shape[0]):\n",
    "        file.write(\"\\t\".join(dataset[i,:].tolist()))\n",
    "        file.write(\"\\n\")\n",
    "#         if(i + 1 != dataset.shape[0]):\n",
    "#             file.write(\"\\n\")\n",
    "    file.close()\n",
    "    return\n",
    "def createTSVLabel(dataset,filename):\n",
    "    dataset = (dataset.copy()).astype(str)\n",
    "#     datasetName = \"label\" + str(dataset_no) + \".tsv\"\n",
    "    datasetName = filename\n",
    "    file = open(datasetName, \"w\")\n",
    "    file.write(\"havg\\thv\\tsavg\\tsv\\tvavg\\tvv\\tmagavg\\tmagv\\tangavg\\tangv\\n\")\n",
    "    for i in range(dataset.shape[0]):\n",
    "        file.write(\"\\t\".join(dataset[i,:].tolist()))\n",
    "        file.write(\"\\n\")\n",
    "#         if(i + 1 != dataset.shape[0]):\n",
    "#             file.write(\"\\n\")\n",
    "    file.close()\n",
    "    return\n"
   ]
  },
  {
   "cell_type": "code",
   "execution_count": 4,
   "metadata": {},
   "outputs": [],
   "source": [
    "def normalize(dataset):\n",
    "    dataset = np.copy(dataset)\n",
    "    datasetNan = np.isnan(dataset).any(axis=1)\n",
    "    nans = []\n",
    "    for i in range(datasetNan.shape[0]):\n",
    "        if(datasetNan[i] == True):\n",
    "            nans.append(i)\n",
    "    dataset = dataset[~np.isnan(dataset).any(axis=1)]\n",
    "    max_values = np.max(dataset,axis=0)\n",
    "    min_values = np.min(dataset,axis=0)\n",
    "    ranges = max_values - min_values\n",
    "    dataset /= ranges\n",
    "    return (dataset,nans)\n",
    "    "
   ]
  },
  {
   "cell_type": "markdown",
   "metadata": {},
   "source": [
    "<h1>Load Model</h1>"
   ]
  },
  {
   "cell_type": "code",
   "execution_count": 5,
   "metadata": {},
   "outputs": [
    {
     "name": "stderr",
     "output_type": "stream",
     "text": [
      "/home/bon/anaconda3/lib/python3.6/site-packages/h5py/__init__.py:36: FutureWarning: Conversion of the second argument of issubdtype from `float` to `np.floating` is deprecated. In future, it will be treated as `np.float64 == np.dtype(float).type`.\n",
      "  from ._conv import register_converters as _register_converters\n",
      "Using TensorFlow backend.\n"
     ]
    },
    {
     "name": "stdout",
     "output_type": "stream",
     "text": [
      "Loaded model from disk\n"
     ]
    }
   ],
   "source": [
    "from keras.models import model_from_yaml\n",
    "# load YAML and create model\n",
    "yaml_file = open('model.yaml', 'r')\n",
    "loaded_model_yaml = yaml_file.read()\n",
    "yaml_file.close()\n",
    "loaded_model = model_from_yaml(loaded_model_yaml)\n",
    "# load weights into new model\n",
    "loaded_model.load_weights(\"model.h5\")\n",
    "print(\"Loaded model from disk\")\n"
   ]
  },
  {
   "cell_type": "code",
   "execution_count": 6,
   "metadata": {},
   "outputs": [],
   "source": [
    "def process(frame_sq,frame_sq_gray):\n",
    "    h = calculate_n_of_hsv(frame_sq,0)\n",
    "    s = calculate_n_of_hsv(frame_sq,1)\n",
    "    v = calculate_n_of_hsv(frame_sq,2)\n",
    "    opticFlow = calculate_opticFlow(frame_sq_gray)\n",
    "    return np.append(h,np.append(s,np.append(v,opticFlow)))"
   ]
  },
  {
   "cell_type": "code",
   "execution_count": 7,
   "metadata": {},
   "outputs": [],
   "source": [
    "definition = ['static', 'move', 'rot', 'frot', 'light', 'dynamiclight','unknown']\n",
    "def predict(output):\n",
    "    prediction = model.predict(output.reshape(1,10))\n",
    "    return(definition[np.argmax(prediction[0])])"
   ]
  },
  {
   "cell_type": "markdown",
   "metadata": {},
   "source": [
    "<h1>Start</h1>"
   ]
  },
  {
   "cell_type": "code",
   "execution_count": 8,
   "metadata": {},
   "outputs": [
    {
     "ename": "TypeError",
     "evalue": "ufunc 'add' did not contain a loop with signature matching types dtype('<U32') dtype('<U32') dtype('<U32')",
     "output_type": "error",
     "traceback": [
      "\u001b[0;31m---------------------------------------------------------------------------\u001b[0m",
      "\u001b[0;31mTypeError\u001b[0m                                 Traceback (most recent call last)",
      "\u001b[0;32m<ipython-input-8-ae4d8ee5037f>\u001b[0m in \u001b[0;36m<module>\u001b[0;34m()\u001b[0m\n\u001b[1;32m     20\u001b[0m     \u001b[0;32mif\u001b[0m\u001b[0;34m(\u001b[0m\u001b[0mlen\u001b[0m\u001b[0;34m(\u001b[0m\u001b[0mframe_sq\u001b[0m\u001b[0;34m)\u001b[0m \u001b[0;34m+\u001b[0m \u001b[0;36m1\u001b[0m \u001b[0;34m>=\u001b[0m \u001b[0mBUFFER_SIZE\u001b[0m\u001b[0;34m)\u001b[0m\u001b[0;34m:\u001b[0m\u001b[0;34m\u001b[0m\u001b[0m\n\u001b[1;32m     21\u001b[0m         \u001b[0moutput\u001b[0m \u001b[0;34m=\u001b[0m \u001b[0mprocess\u001b[0m\u001b[0;34m(\u001b[0m\u001b[0mframe_sq\u001b[0m\u001b[0;34m,\u001b[0m \u001b[0mframe_sq_gray\u001b[0m\u001b[0;34m)\u001b[0m\u001b[0;34m\u001b[0m\u001b[0m\n\u001b[0;32m---> 22\u001b[0;31m         \u001b[0msys\u001b[0m\u001b[0;34m.\u001b[0m\u001b[0mstdout\u001b[0m\u001b[0;34m.\u001b[0m\u001b[0mwrite\u001b[0m\u001b[0;34m(\u001b[0m\u001b[0;34m\"\\r\"\u001b[0m \u001b[0;34m+\u001b[0m \u001b[0moutput\u001b[0m\u001b[0;34m)\u001b[0m\u001b[0;34m\u001b[0m\u001b[0m\n\u001b[0m\u001b[1;32m     23\u001b[0m         \u001b[0msys\u001b[0m\u001b[0;34m.\u001b[0m\u001b[0mstdout\u001b[0m\u001b[0;34m.\u001b[0m\u001b[0mflush\u001b[0m\u001b[0;34m(\u001b[0m\u001b[0;34m)\u001b[0m\u001b[0;34m\u001b[0m\u001b[0m\n\u001b[1;32m     24\u001b[0m         \u001b[0;32mdel\u001b[0m \u001b[0mframe_sq\u001b[0m\u001b[0;34m[\u001b[0m\u001b[0;36m0\u001b[0m\u001b[0;34m]\u001b[0m\u001b[0;34m\u001b[0m\u001b[0m\n",
      "\u001b[0;31mTypeError\u001b[0m: ufunc 'add' did not contain a loop with signature matching types dtype('<U32') dtype('<U32') dtype('<U32')"
     ]
    }
   ],
   "source": [
    "import numpy as np\n",
    "import cv2\n",
    "import sys\n",
    "\n",
    "frame_sq = []\n",
    "frame_sq_gray = []\n",
    "\n",
    "cap = cv2.VideoCapture(0)\n",
    "video_count = 0\n",
    "while(True):\n",
    "    ret, frame = cap.read()\n",
    "    hsv = cv2.cvtColor(frame,cv2.COLOR_BGR2HSV)  \n",
    "    gray = cv2.cvtColor(frame, cv2.COLOR_BGR2GRAY) \n",
    "    if(video_count == 0):\n",
    "        WIDTH = int(cap.get(3))\n",
    "        HEIGHT = int(cap.get(4))\n",
    "        video_count += 1\n",
    "    frame_sq.append(hsv)\n",
    "    frame_sq_gray.append(gray)\n",
    "    if(len(frame_sq) + 1 >= BUFFER_SIZE):\n",
    "        output = process(frame_sq, frame_sq_gray)\n",
    "        print(output)\n",
    "#         sys.stdout.write(\"\\r\" + output)\n",
    "#         sys.stdout.flush()        \n",
    "        del frame_sq[0]\n",
    "    if cv2.waitKey(1) & 0xFF == ord('q'):\n",
    "        break\n",
    "    \n",
    "cap.release()\n",
    "cv2.destroyAllWindows()"
   ]
  },
  {
   "cell_type": "code",
   "execution_count": null,
   "metadata": {},
   "outputs": [],
   "source": []
  }
 ],
 "metadata": {
  "kernelspec": {
   "display_name": "Python 3",
   "language": "python",
   "name": "python3"
  },
  "language_info": {
   "codemirror_mode": {
    "name": "ipython",
    "version": 3
   },
   "file_extension": ".py",
   "mimetype": "text/x-python",
   "name": "python",
   "nbconvert_exporter": "python",
   "pygments_lexer": "ipython3",
   "version": "3.6.5"
  }
 },
 "nbformat": 4,
 "nbformat_minor": 2
}
