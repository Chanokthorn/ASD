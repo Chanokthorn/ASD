{
 "cells": [
  {
   "cell_type": "markdown",
   "metadata": {},
   "source": [
    "<h1>Load Required Functions</h1>"
   ]
  },
  {
   "cell_type": "code",
   "execution_count": 13,
   "metadata": {},
   "outputs": [
    {
     "name": "stdout",
     "output_type": "stream",
     "text": [
      "Loaded model from disk\n",
      "acc: 75.57%\n"
     ]
    }
   ],
   "source": [
    "from keras.layers import Input, Dense\n",
    "from keras.models import Model\n",
    "from keras.models import Sequential\n",
    "from keras.layers import Dense, Dropout, Activation, Flatten\n",
    "from keras.utils import np_utils\n",
    "from keras import optimizers\n",
    "from keras.models import model_from_yaml\n",
    "from sklearn.preprocessing import StandardScaler\n",
    "import numpy as np\n",
    "from numpy import genfromtxt\n",
    "\n",
    "def normalize(dataset):\n",
    "#     datasetTmp = np.copy(dataset)\n",
    "#     maxx = np.max(dataset, axis=0)\n",
    "#     minn = np.min(dataset, axis=0)\n",
    "#     rangee = maxx - minn\n",
    "#     datasetTmp -= minn\n",
    "#     datasetTmp /= rangee\n",
    "#     print(\"minn: \",minn)\n",
    "#     print(\"rangee: \",rangee)\n",
    "    datasetTmp = scaler.transform(dataset)\n",
    "    return datasetTmp\n",
    "\n",
    "scaler = StandardScaler(copy=True)\n",
    "\n",
    "# with open(\"../unnormFrankensteinFullForm.csv\") as f:\n",
    "#     lines = (line for line in f if not line.startswith('#'))\n",
    "#     dataset = np.loadtxt(lines, delimiter=',', skiprows=1)\n",
    "dataset,labels = loadLabel()\n",
    "definition = ['static', 'move', 'rot', 'frot', 'light', 'dynamiclight','unknown']\n",
    "scaler = StandardScaler(copy=True)\n",
    "scaler.fit(dataset)\n",
    "\n",
    "dataset = normalize(dataset)\n",
    "\n",
    "# load YAML and create model\n",
    "yaml_file = open('model10.yaml', 'r')\n",
    "loaded_model_yaml = yaml_file.read()\n",
    "yaml_file.close()\n",
    "loaded_model = model_from_yaml(loaded_model_yaml)\n",
    "# load weights into new model\n",
    "loaded_model.load_weights(\"model10.h5\")\n",
    "print(\"Loaded model from disk\")\n",
    "\n",
    "# evaluate loaded model on test data\n",
    "# loaded_model.compile(loss='MSE', optimizer=opti, metrics=['accuracy'])\n",
    "opti =optimizers.Adam(beta_1=0.9, beta_2=0.999, epsilon=None, decay=0.0, amsgrad=False)\n",
    "loaded_model.compile(loss='binary_crossentropy', optimizer=opti, metrics=['accuracy'])\n",
    "# score = loaded_model.evaluate(test_data, test_labels, verbose=0)\n",
    "score = loaded_model.evaluate(normalize(dataset), labels, verbose=0)\n",
    "\n",
    "print(\"%s: %.2f%%\" % (loaded_model.metrics_names[1], score[1]*100))\n",
    "\n"
   ]
  },
  {
   "cell_type": "code",
   "execution_count": null,
   "metadata": {},
   "outputs": [],
   "source": []
  },
  {
   "cell_type": "code",
   "execution_count": 14,
   "metadata": {
    "colab": {
     "autoexec": {
      "startup": false,
      "wait_interval": 0
     }
    },
    "colab_type": "code",
    "id": "Kv2It0UYTBq7"
   },
   "outputs": [],
   "source": [
    "import cv2\n",
    "import matplotlib.pyplot as plt\n",
    "import os\n",
    "import numpy as np\n",
    "\n",
    "BUFFER_SIZE = 100\n",
    "WIDTH = 1280\n",
    "HEIGHT = 720\n",
    "video_count = 0"
   ]
  },
  {
   "cell_type": "code",
   "execution_count": 15,
   "metadata": {
    "colab": {
     "autoexec": {
      "startup": false,
      "wait_interval": 0
     }
    },
    "colab_type": "code",
    "collapsed": true,
    "id": "UMWqnsH9TBrC"
   },
   "outputs": [],
   "source": [
    "def calculate_n_of_hsv(frame_sq,n):\n",
    "    sum_n = 0\n",
    "    var_n = 0\n",
    "    for frame in frame_sq:\n",
    "        var_n += np.var(frame[:,:,n])# / (np.mean(frame[:,:,n]) * 1\n",
    "        sum_n += np.sum(frame[:,:,n])\n",
    "\n",
    "    avg_n = sum_n/ (len(frame_sq) * frame_sq[0].shape[0] * frame_sq[0].shape[1])\n",
    "    return np.array([avg_n ,var_n])\n",
    "def calculate_comp(frame_sq):\n",
    "    sum_comp = 0\n",
    "    for i in range(len(frame_sq)):\n",
    "        if(i != 0):\n",
    "            sum_comp += compare_img(frame_sq[i], frame_sq[i-1])\n",
    "#         if(i == 1): print(compare_img(frame_sq[i], frame_sq[i-1]))\n",
    "    sum_comp /= (len(frame_sq) - 1)\n",
    "    return sum_comp\n",
    "def calculate_opticFlow(frame_sq):\n",
    "    prvs = cv2.resize(frame_sq[0],(0,0),fx=0.5,fy=0.5)\n",
    "    mag_sum = 0\n",
    "    ang_sum = 0\n",
    "    var_mag = 0\n",
    "    var_ang = 0\n",
    "    for i in range(1,len(frame_sq)):\n",
    "        frame2 = frame_sq[i]\n",
    "        next = cv2.resize(frame2, (0,0), fx=0.5, fy=0.5) \n",
    "        flow = cv2.calcOpticalFlowFarneback(prvs,next, None, 0.5, 3, 15, 3, 5, 1.2, 0)\n",
    "        mag, ang = cv2.cartToPolar(flow[...,0], flow[...,1])\n",
    "        mag = cv2.normalize(mag,None,0,1,cv2.NORM_MINMAX)\n",
    "        ang = np.absolute(cv2.normalize(ang,None,-1,1,cv2.NORM_MINMAX))\n",
    "        mag_sum = np.sum(mag)\n",
    "        ang_sum = np.sum(ang)\n",
    "        var_mag += np.var(mag)\n",
    "        var_ang += np.var(ang)\n",
    "    mag_sum /= (BUFFER_SIZE * WIDTH * HEIGHT)\n",
    "    ang_sum /= (BUFFER_SIZE * WIDTH * HEIGHT)\n",
    "    var_mag /= BUFFER_SIZE\n",
    "    var_ang /= BUFFER_SIZE\n",
    "    return np.array([mag_sum, ang_sum, var_mag, var_ang])"
   ]
  },
  {
   "cell_type": "code",
   "execution_count": 16,
   "metadata": {
    "collapsed": true
   },
   "outputs": [],
   "source": [
    "def compare_img(img1,img2):\n",
    "    img1 = normalize_gray(img1)\n",
    "    img2 = normalize_gray(img2)\n",
    "    diff = img1 - img2\n",
    "    m_norm = np.sum(abs(diff))\n",
    "#     return m_norm\n",
    "    return 0\n",
    "def normalize_frame(frame):\n",
    "    return frame/255\n",
    "\n",
    "def normalize_gray(frame):\n",
    "    rng = np.max(frame) - np.min(frame)\n",
    "    amin = np.min(frame)\n",
    "    return (frame-amin)/rng #range from [0,1]\n",
    "def createDataset(data):\n",
    "    dataset = data[0].copy()\n",
    "    data.remove(data[0])\n",
    "    for datum in data:\n",
    "        dataset = np.append(dataset, datum, axis = 1)\n",
    "    return dataset\n",
    "def createTSV(dataset,filename):\n",
    "    dataset = (dataset.copy()).astype(str)\n",
    "#     datasetName = \"dataset\" + str(dataset_no) + \".tsv\"\n",
    "    datasetName = filename + \".tsv\"\n",
    "    file = open(datasetName, \"w\")\n",
    "#     file.write(\"h\\ts\\tv\\tframe_edges_comp\\tframe_comp\\n\")\n",
    "    for i in range(dataset.shape[0]):\n",
    "        file.write(\"\\t\".join(dataset[i,:].tolist()))\n",
    "        file.write(\"\\n\")\n",
    "#         if(i + 1 != dataset.shape[0]):\n",
    "#             file.write(\"\\n\")\n",
    "    file.close()\n",
    "    return\n",
    "def createTSVLabel(dataset,filename):\n",
    "    dataset = (dataset.copy()).astype(str)\n",
    "#     datasetName = \"label\" + str(dataset_no) + \".tsv\"\n",
    "    datasetName = filename\n",
    "    file = open(datasetName, \"w\")\n",
    "    file.write(\"havg\\thv\\tsavg\\tsv\\tvavg\\tvv\\tmagavg\\tmagv\\tangavg\\tangv\\n\")\n",
    "    for i in range(dataset.shape[0]):\n",
    "        file.write(\"\\t\".join(dataset[i,:].tolist()))\n",
    "        file.write(\"\\n\")\n",
    "#         if(i + 1 != dataset.shape[0]):\n",
    "#             file.write(\"\\n\")\n",
    "    file.close()\n",
    "    return\n"
   ]
  },
  {
   "cell_type": "code",
   "execution_count": 17,
   "metadata": {},
   "outputs": [],
   "source": [
    "import pickle\n",
    "from sklearn.utils import shuffle\n",
    "\n",
    "AMOUNT_OF_CLASSES = 7\n",
    "def loadLabel():\n",
    "    dataset = (genfromtxt(\"./unnormFrankensteinFullForm.csv\", delimiter=','))[1:,:]\n",
    "    with open(\"LabelFrankensteinFullForm.p\", 'rb') as handle:\n",
    "        labels = pickle.load(handle)\n",
    "    ###### TEMPORARY\n",
    "    del labels[-1]\n",
    "    ######\n",
    "    all_labels = np.zeros((len(labels), AMOUNT_OF_CLASSES))\n",
    "    label_counter = 0\n",
    "    for label in labels:\n",
    "        tmp = np.zeros((1,AMOUNT_OF_CLASSES))\n",
    "        if (label == \"static\"):\n",
    "            tmp[0,0] = 1\n",
    "        elif (label == \"move\"):\n",
    "            tmp[0,1] = 1\n",
    "        elif (label == \"rot\"):\n",
    "            tmp[0,2] = 1\n",
    "        elif (label == \"frot\"):\n",
    "            tmp[0,3] = 1\n",
    "        elif (label == \"light\"):\n",
    "            tmp[0,4] = 1\n",
    "        elif (label == \"dynamiclight\"):\n",
    "            tmp[0,5] = 1\n",
    "        else:\n",
    "            tmp[0,6] = 1\n",
    "        all_labels[label_counter,:] = tmp\n",
    "        label_counter += 1\n",
    "    dataset, all_labels = shuffle(dataset, all_labels, random_state=0)\n",
    "    return assignData(dataset, all_labels)\n",
    "\n",
    "def assignData(_data,_labels):\n",
    "    dataset = []\n",
    "    labels = []\n",
    "\n",
    "    for i in range (_data.shape[0]):\n",
    "        dataset.append(_data[i])\n",
    "        labels.append(_labels[i])\n",
    "    return np.asarray(dataset), np.asarray(labels)\n",
    "                    "
   ]
  },
  {
   "cell_type": "code",
   "execution_count": null,
   "metadata": {},
   "outputs": [],
   "source": [
    "import pickle\n",
    "from sklearn.utils import shuffle\n",
    "from sklearn.preprocessing import StandardScaler\n",
    "import numpy as np\n",
    "\n",
    "with open(\"../unnormFrankensteinFullForm.csv\") as f:\n",
    "    lines = (line for line in f if not line.startswith('#'))\n",
    "    dataset = np.loadtxt(lines, delimiter=',', skiprows=1)\n",
    "definition = ['static', 'move', 'rot', 'frot', 'light', 'dynamiclight','unknown']\n",
    "scaler = StandardScaler(copy=True)\n",
    "scaler.fit(dataset)\n"
   ]
  },
  {
   "cell_type": "code",
   "execution_count": 7,
   "metadata": {},
   "outputs": [],
   "source": [
    "from sklearn.preprocessing import StandardScaler\n",
    "from numpy import genfromtxt\n",
    "\n",
    "scaler = StandardScaler()\n",
    "dataset, labels = loadLabel()\n",
    "test_index = 0\n",
    "definition = ['static', 'move', 'rot', 'frot', 'light', 'dynamiclight','unknown']\n",
    "scaler.fit(dataset)\n",
    "\n",
    "def _normalize(frame):\n",
    "    new_frame = scaler.transform(dataset[test_index].reshape(1,-1))\n",
    "    return new_frame\n",
    "#     datasetNan = np.isnan(dataset).any(axis=1)\n",
    "#     nans = []\n",
    "#     for i in range(datasetNan.shape[0]):\n",
    "#         if(datasetNan[i] == True):\n",
    "#             nans.append(i)\n",
    "#     dataset = dataset[~np.isnan(dataset).any(axis=1)]\n",
    "#     max_values = np.max(dataset,axis=0)\n",
    "#     min_values = np.min(dataset,axis=0)\n",
    "#     ranges = max_values - min_values\n",
    "#     dataset /= ranges\n",
    "#     return (dataset,nans)\n",
    "    "
   ]
  },
  {
   "cell_type": "markdown",
   "metadata": {},
   "source": [
    "<h1>Load Model</h1>"
   ]
  },
  {
   "cell_type": "code",
   "execution_count": 8,
   "metadata": {},
   "outputs": [
    {
     "name": "stderr",
     "output_type": "stream",
     "text": [
      "/home/bon/anaconda3/lib/python3.6/site-packages/h5py/__init__.py:36: FutureWarning: Conversion of the second argument of issubdtype from `float` to `np.floating` is deprecated. In future, it will be treated as `np.float64 == np.dtype(float).type`.\n",
      "  from ._conv import register_converters as _register_converters\n",
      "Using TensorFlow backend.\n"
     ]
    },
    {
     "name": "stdout",
     "output_type": "stream",
     "text": [
      "Loaded model from disk\n"
     ]
    }
   ],
   "source": [
    "from keras.layers import Input, Dense\n",
    "from keras.models import Model\n",
    "from keras.models import Sequential\n",
    "from keras.layers import Dense, Dropout, Activation, Flatten\n",
    "from keras.utils import np_utils\n",
    "from keras import optimizers\n",
    "from keras.models import model_from_yaml\n",
    "# load YAML and create model\n",
    "yaml_file = open('model10.yaml', 'r')\n",
    "loaded_model_yaml = yaml_file.read()\n",
    "yaml_file.close()\n",
    "loaded_model = model_from_yaml(loaded_model_yaml)\n",
    "# load weights into new model\n",
    "loaded_model.load_weights(\"model10.h5\")\n",
    "print(\"Loaded model from disk\")\n",
    "\n",
    "# evaluate loaded model on test data\n",
    "# loaded_model.compile(loss='MSE', optimizer=opti, metrics=['accuracy'])\n",
    "opti =optimizers.Adam(beta_1=0.9, beta_2=0.999, epsilon=None, decay=0.0, amsgrad=False)\n",
    "loaded_model.compile(loss='binary_crossentropy', optimizer=opti, metrics=['accuracy'])\n"
   ]
  },
  {
   "cell_type": "code",
   "execution_count": 11,
   "metadata": {},
   "outputs": [],
   "source": [
    "def process(frame_sq,frame_sq_gray):\n",
    "    h = calculate_n_of_hsv(frame_sq,0)\n",
    "    s = calculate_n_of_hsv(frame_sq,1)\n",
    "    v = calculate_n_of_hsv(frame_sq,2)\n",
    "    opticFlow = calculate_opticFlow(frame_sq_gray)\n",
    "    return _normalize(np.append(h,np.append(s,np.append(v,opticFlow))))\n",
    "# def normalize(dataset):\n",
    "#     datasetTmp = np.copy(dataset)\n",
    "#     datasetTmp -= _min\n",
    "#     datasetTmp /= _range\n",
    "#     return datasetTmp"
   ]
  },
  {
   "cell_type": "code",
   "execution_count": 12,
   "metadata": {},
   "outputs": [],
   "source": [
    "definition = ['static', 'move', 'rot', 'frot', 'light', 'dynamiclight','unknown']\n",
    "def predict(output):\n",
    "    prediction = loaded_model.predict(output)\n",
    "    return(definition[np.argmax(prediction[0])])"
   ]
  },
  {
   "cell_type": "markdown",
   "metadata": {},
   "source": [
    "<h1>Start</h1>"
   ]
  },
  {
   "cell_type": "code",
   "execution_count": 10,
   "metadata": {},
   "outputs": [
    {
     "name": "stdout",
     "output_type": "stream",
     "text": [
      "[[-0.94446988 -0.40308864  0.2163328   0.26974459  0.24522805 -0.8893177\n",
      "  -0.09333576  0.98545683 -0.78789887 -0.63302993]]\n",
      "static[[-0.94446988 -0.40308864  0.2163328   0.26974459  0.24522805 -0.8893177\n",
      "  -0.09333576  0.98545683 -0.78789887 -0.63302993]]\n",
      "static[[-0.94446988 -0.40308864  0.2163328   0.26974459  0.24522805 -0.8893177\n",
      "  -0.09333576  0.98545683 -0.78789887 -0.63302993]]\n",
      "static[[-0.94446988 -0.40308864  0.2163328   0.26974459  0.24522805 -0.8893177\n",
      "  -0.09333576  0.98545683 -0.78789887 -0.63302993]]\n",
      "static[[-0.94446988 -0.40308864  0.2163328   0.26974459  0.24522805 -0.8893177\n",
      "  -0.09333576  0.98545683 -0.78789887 -0.63302993]]\n",
      "static[[-0.94446988 -0.40308864  0.2163328   0.26974459  0.24522805 -0.8893177\n",
      "  -0.09333576  0.98545683 -0.78789887 -0.63302993]]\n",
      "static[[-0.94446988 -0.40308864  0.2163328   0.26974459  0.24522805 -0.8893177\n",
      "  -0.09333576  0.98545683 -0.78789887 -0.63302993]]\n",
      "static[[-0.94446988 -0.40308864  0.2163328   0.26974459  0.24522805 -0.8893177\n",
      "  -0.09333576  0.98545683 -0.78789887 -0.63302993]]\n",
      "static[[-0.94446988 -0.40308864  0.2163328   0.26974459  0.24522805 -0.8893177\n",
      "  -0.09333576  0.98545683 -0.78789887 -0.63302993]]\n",
      "static[[-0.94446988 -0.40308864  0.2163328   0.26974459  0.24522805 -0.8893177\n",
      "  -0.09333576  0.98545683 -0.78789887 -0.63302993]]\n",
      "static"
     ]
    }
   ],
   "source": [
    "import numpy as np\n",
    "import cv2\n",
    "import sys\n",
    "from sklearn import preprocessing\n",
    "\n",
    "frame_sq = []\n",
    "frame_sq_gray = []\n",
    "BUFFER_SIZE = 100\n",
    "cap = cv2.VideoCapture(0)\n",
    "video_count = 0\n",
    "while(True):\n",
    "    ret, frame = cap.read()\n",
    "    hsv = cv2.cvtColor(frame,cv2.COLOR_BGR2HSV)  \n",
    "    gray = cv2.cvtColor(frame, cv2.COLOR_BGR2GRAY) \n",
    "    if(video_count == 0):\n",
    "        WIDTH = int(cap.get(3))\n",
    "        HEIGHT = int(cap.get(4))\n",
    "        video_count += 1\n",
    "    frame_sq.append(hsv)\n",
    "    frame_sq_gray.append(gray)\n",
    "    if(len(frame_sq) + 1 >= BUFFER_SIZE):\n",
    "        output = process(frame_sq, frame_sq_gray)\n",
    "        print(output)\n",
    "        predictt = predict(output)\n",
    "        sys.stdout.write(\"\\r\" + predictt)\n",
    "        sys.stdout.flush()        \n",
    "#         del frame_sq[0]\n",
    "        frame_sq = []\n",
    "        frame_sq_gray = []\n",
    "    cv2.imshow('frame',frame)\n",
    "    if cv2.waitKey(1) & 0xFF == ord('q'):\n",
    "        break\n",
    "    \n",
    "cap.release()\n",
    "cv2.destroyAllWindows()"
   ]
  },
  {
   "cell_type": "code",
   "execution_count": null,
   "metadata": {},
   "outputs": [],
   "source": [
    "from keras.models import model_from_yaml\n",
    "# load YAML and create model\n",
    "yaml_file = open('model5.yaml', 'r')\n",
    "loaded_model_yaml = yaml_file.read()\n",
    "yaml_file.close()\n",
    "loaded_model = model_from_yaml(loaded_model_yaml)\n",
    "# load weights into new model\n",
    "loaded_model.load_weights(\"model5.h5\")\n",
    "print(\"Loaded model from disk\")\n",
    "\n",
    "# evaluate loaded model on test data\n",
    "loaded_model.compile(loss='binary_crossentropy', optimizer='rmsprop', metrics=['accuracy'])\n",
    "score = loaded_model.evaluate(dataset, test_labels, verbose=0)\n",
    "print(\"%s: %.2f%%\" % (loaded_model.metrics_names[1], score[1]*100))"
   ]
  },
  {
   "cell_type": "code",
   "execution_count": null,
   "metadata": {},
   "outputs": [],
   "source": []
  },
  {
   "cell_type": "code",
   "execution_count": null,
   "metadata": {},
   "outputs": [],
   "source": []
  },
  {
   "cell_type": "code",
   "execution_count": null,
   "metadata": {},
   "outputs": [],
   "source": []
  },
  {
   "cell_type": "code",
   "execution_count": null,
   "metadata": {},
   "outputs": [],
   "source": []
  }
 ],
 "metadata": {
  "kernelspec": {
   "display_name": "Python 3",
   "language": "python",
   "name": "python3"
  },
  "language_info": {
   "codemirror_mode": {
    "name": "ipython",
    "version": 3
   },
   "file_extension": ".py",
   "mimetype": "text/x-python",
   "name": "python",
   "nbconvert_exporter": "python",
   "pygments_lexer": "ipython3",
   "version": "3.6.5"
  }
 },
 "nbformat": 4,
 "nbformat_minor": 2
}
